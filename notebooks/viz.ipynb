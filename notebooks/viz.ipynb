{
 "cells": [
  {
   "cell_type": "code",
   "execution_count": 1,
   "metadata": {},
   "outputs": [],
   "source": [
    "from datetime import datetime, timedelta\n",
    "import matplotlib.pyplot as plt\n",
    "import cartopy.crs as ccrs\n",
    "import os\n",
    "import json\n",
    "import pandas as pd\n",
    "os.environ[\"CARTOPY_USER_BACKGROUNDS\"] = \"/Users/atharvas/Documents/FALL_2020/LING506/repo/BG\""
   ]
  },
  {
   "cell_type": "code",
   "execution_count": 58,
   "metadata": {},
   "outputs": [
    {
     "data": {
      "text/plain": [
       "array(['US', 'BS', 'BR', 'DO', 'AR', 'AU', 'PR', 'NL', 'MX', 'GB', 'DE',\n",
       "       'CL', 'TH', 'HT', 'VI', 'GH', 'KY', 'ES', 'GN', 'GR', 'JM', 'IN',\n",
       "       'CA', 'FR', 'PH', 'SE', 'HN', 'PA', 'PE', 'CO', 'CR', 'ZA', 'IE',\n",
       "       'ID', 'BD', 'JP', 'NG', 'MY', 'GP', 'CH', 'VE', 'SA', 'BE', 'PT',\n",
       "       'CN', 'BB', 'LK', 'LB', 'DK', 'AT', 'VN', 'IT'], dtype=object)"
      ]
     },
     "execution_count": 58,
     "metadata": {},
     "output_type": "execute_result"
    }
   ],
   "source": [
    "all_tweets = pd.read_pickle(\"../data/cleanmoji.pkl\")\n",
    "all_tweets['created_at_date'] = pd.to_datetime(all_tweets['created_at'], infer_datetime_format=True) \n",
    "us_tweets = all_tweets[all_tweets['cc'] == \"US\"]\n",
    "all_tweets['cc'].unique()\n",
    "\n"
   ]
  },
  {
   "cell_type": "code",
   "execution_count": 24,
   "metadata": {},
   "outputs": [],
   "source": [
    "# fig = plt.figure(figsize=(19.2, 10.8))\n",
    "# ax = plt.axes(projection=ccrs.Mercator(central_longitude=-60,  \n",
    "#                                        min_latitude=-30,\n",
    "#                                        max_latitude=60))\n",
    "# ax.background_img(name='BM', resolution='low')\n",
    "# ax.set_extent([-150, 30, -30, 60], crs=ccrs.PlateCarree())\n",
    "\n"
   ]
  },
  {
   "cell_type": "code",
   "execution_count": 60,
   "metadata": {},
   "outputs": [
    {
     "data": {
      "text/plain": [
       "0       2012-10-25 15:18:02-04:00\n",
       "1       2012-10-26 13:30:44-04:00\n",
       "2       2012-10-27 08:04:31-04:00\n",
       "3       2012-10-27 18:47:17-04:00\n",
       "4       2012-10-28 10:21:02-04:00\n",
       "                   ...           \n",
       "92052   2012-10-28 18:13:58-04:00\n",
       "92053   2012-10-28 18:13:59-04:00\n",
       "92054   2012-10-28 18:14:01-04:00\n",
       "92055   2012-10-28 18:14:01-04:00\n",
       "92056   2012-10-28 18:14:01-04:00\n",
       "Name: created_at_date, Length: 92057, dtype: datetime64[ns, US/Eastern]"
      ]
     },
     "execution_count": 60,
     "metadata": {},
     "output_type": "execute_result"
    }
   ],
   "source": [
    "# us_tweets['Emoji_1']\n",
    "# pd.to_datetime(all_tweets['created_at']) \n",
    "\n",
    "all_tweets['created_at_date'].dt.tz_convert('US/Eastern')"
   ]
  },
  {
   "cell_type": "code",
   "execution_count": null,
   "metadata": {},
   "outputs": [],
   "source": []
  },
  {
   "cell_type": "code",
   "execution_count": null,
   "metadata": {},
   "outputs": [],
   "source": []
  }
 ],
 "metadata": {
  "kernelspec": {
   "display_name": "Python 3",
   "language": "python",
   "name": "python3"
  },
  "language_info": {
   "codemirror_mode": {
    "name": "ipython",
    "version": 3
   },
   "file_extension": ".py",
   "mimetype": "text/x-python",
   "name": "python",
   "nbconvert_exporter": "python",
   "pygments_lexer": "ipython3",
   "version": "3.8.5"
  }
 },
 "nbformat": 4,
 "nbformat_minor": 4
}
