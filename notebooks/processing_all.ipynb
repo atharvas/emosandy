{
 "cells": [
  {
   "cell_type": "code",
   "execution_count": 1,
   "metadata": {},
   "outputs": [
    {
     "data": {
      "text/html": [
       "<table style=\"border: 2px solid white;\">\n",
       "<tr>\n",
       "<td style=\"vertical-align: top; border: 0px solid white\">\n",
       "<h3 style=\"text-align: left;\">Client</h3>\n",
       "<ul style=\"text-align: left; list-style: none; margin: 0; padding: 0;\">\n",
       "  <li><b>Scheduler: </b>tcp://127.0.0.1:61595</li>\n",
       "  <li><b>Dashboard: </b><a href='http://127.0.0.1:8787/status' target='_blank'>http://127.0.0.1:8787/status</a></li>\n",
       "</ul>\n",
       "</td>\n",
       "<td style=\"vertical-align: top; border: 0px solid white\">\n",
       "<h3 style=\"text-align: left;\">Cluster</h3>\n",
       "<ul style=\"text-align: left; list-style:none; margin: 0; padding: 0;\">\n",
       "  <li><b>Workers: </b>4</li>\n",
       "  <li><b>Cores: </b>8</li>\n",
       "  <li><b>Memory: </b>17.18 GB</li>\n",
       "</ul>\n",
       "</td>\n",
       "</tr>\n",
       "</table>"
      ],
      "text/plain": [
       "<Client: 'tcp://127.0.0.1:61595' processes=4 threads=8, memory=17.18 GB>"
      ]
     },
     "execution_count": 1,
     "metadata": {},
     "output_type": "execute_result"
    }
   ],
   "source": [
    "import os\n",
    "import pandas as pd\n",
    "import random\n",
    "import re\n",
    "import json\n",
    "import emoji\n",
    "from datetime import datetime\n",
    "random.seed(493)\n",
    "import dask\n",
    "import json\n",
    "import dask.dataframe as dd\n",
    "import dask.bag as db\n",
    "from dask.distributed import Client, progress\n",
    "client = Client(n_workers=4, threads_per_worker=2)\n",
    "\n",
    "client"
   ]
  },
  {
   "cell_type": "code",
   "execution_count": 2,
   "metadata": {},
   "outputs": [
    {
     "name": "stdout",
     "output_type": "stream",
     "text": [
      "<Client: 'tcp://127.0.0.1:61595' processes=4 threads=8, memory=17.18 GB> http://127.0.0.1:8787/status\n",
      "saving ../data/abig.pkl\n"
     ]
    },
    {
     "data": {
      "text/html": [
       "<div>\n",
       "<style scoped>\n",
       "    .dataframe tbody tr th:only-of-type {\n",
       "        vertical-align: middle;\n",
       "    }\n",
       "\n",
       "    .dataframe tbody tr th {\n",
       "        vertical-align: top;\n",
       "    }\n",
       "\n",
       "    .dataframe thead th {\n",
       "        text-align: right;\n",
       "    }\n",
       "</style>\n",
       "<table border=\"1\" class=\"dataframe\">\n",
       "  <thead>\n",
       "    <tr style=\"text-align: right;\">\n",
       "      <th></th>\n",
       "      <th>full_text</th>\n",
       "      <th>created_at</th>\n",
       "      <th>id</th>\n",
       "      <th>lon</th>\n",
       "      <th>lat</th>\n",
       "    </tr>\n",
       "  </thead>\n",
       "  <tbody>\n",
       "    <tr>\n",
       "      <th>0</th>\n",
       "      <td>Everyone up north stay safe from hurricane sandy</td>\n",
       "      <td>Mon Oct 29 22:50:17 +0000 2012</td>\n",
       "      <td>263050150904201200</td>\n",
       "      <td>-97.256829</td>\n",
       "      <td>32.840356</td>\n",
       "    </tr>\n",
       "    <tr>\n",
       "      <th>1</th>\n",
       "      <td>Hurricane sandy relief rt? 8 days no power/hea...</td>\n",
       "      <td>Wed Nov 07 00:50:37 +0000 2012</td>\n",
       "      <td>265979533935644670</td>\n",
       "      <td>-73.477156</td>\n",
       "      <td>40.661248</td>\n",
       "    </tr>\n",
       "    <tr>\n",
       "      <th>2</th>\n",
       "      <td>Whoah thats huge. RT @HuffPostGreen: Complete ...</td>\n",
       "      <td>Fri Nov 02 02:56:48 +0000 2012</td>\n",
       "      <td>264199351025410050</td>\n",
       "      <td>-87.621128</td>\n",
       "      <td>41.890800</td>\n",
       "    </tr>\n",
       "    <tr>\n",
       "      <th>3</th>\n",
       "      <td>Caught a #wedding ❤️across the street from an ...</td>\n",
       "      <td>Sat Oct 06 19:31:43 +0000 2018</td>\n",
       "      <td>1048657069182804000</td>\n",
       "      <td>-77.896944</td>\n",
       "      <td>34.036667</td>\n",
       "    </tr>\n",
       "    <tr>\n",
       "      <th>4</th>\n",
       "      <td>“@TIME: Satellite photo of Tropical Storm Arth...</td>\n",
       "      <td>Thu Jul 03 04:34:03 +0000 2014</td>\n",
       "      <td>484555647254421500</td>\n",
       "      <td>-77.470397</td>\n",
       "      <td>37.553711</td>\n",
       "    </tr>\n",
       "  </tbody>\n",
       "</table>\n",
       "</div>"
      ],
      "text/plain": [
       "                                           full_text  \\\n",
       "0   Everyone up north stay safe from hurricane sandy   \n",
       "1  Hurricane sandy relief rt? 8 days no power/hea...   \n",
       "2  Whoah thats huge. RT @HuffPostGreen: Complete ...   \n",
       "3  Caught a #wedding ❤️across the street from an ...   \n",
       "4  “@TIME: Satellite photo of Tropical Storm Arth...   \n",
       "\n",
       "                       created_at                   id        lon        lat  \n",
       "0  Mon Oct 29 22:50:17 +0000 2012   263050150904201200 -97.256829  32.840356  \n",
       "1  Wed Nov 07 00:50:37 +0000 2012   265979533935644670 -73.477156  40.661248  \n",
       "2  Fri Nov 02 02:56:48 +0000 2012   264199351025410050 -87.621128  41.890800  \n",
       "3  Sat Oct 06 19:31:43 +0000 2018  1048657069182804000 -77.896944  34.036667  \n",
       "4  Thu Jul 03 04:34:03 +0000 2014   484555647254421500 -77.470397  37.553711  "
      ]
     },
     "execution_count": 2,
     "metadata": {},
     "output_type": "execute_result"
    }
   ],
   "source": [
    "def process_raw_data(path, name):\n",
    "    if not os.path.exists(f\"../data/{name}.pkl\"):\n",
    "        print(client, client.dashboard_link)\n",
    "        b = db.read_text(f'{path}/x**').map(json.loads)\n",
    "        flatten = lambda rec: {\n",
    "                    'full_text': rec['full_text'],\n",
    "                    'created_at': rec['created_at'],\n",
    "                    'id': rec['id'],\n",
    "                    'lon': rec['coordinates']['coordinates'][0],\n",
    "                    'lat': rec['coordinates']['coordinates'][1]}\n",
    "\n",
    "        tweets_df = b.filter(lambda record: record['coordinates'] is not None)\n",
    "        tweets_df = tweets_df.map(flatten).to_dataframe().compute()\n",
    "        print(f\"saving ../data/{name}.pkl\")\n",
    "        tweets_df.drop_duplicates(subset=['id']).to_pickle(f\"../data/{name}.pkl\")\n",
    "    else:\n",
    "        tweets_df = pd.read_pickle(f\"../data/{name}.pkl\").drop_duplicates(subset=['id'])\n",
    "    return tweets_df\n",
    "\n",
    "\n",
    "all_tweets_df = process_raw_data(\"../data/big_data/hurricane_data/\", 'abig')\n",
    "all_tweets_df.head()"
   ]
  },
  {
   "cell_type": "code",
   "execution_count": 4,
   "metadata": {},
   "outputs": [
    {
     "name": "stdout",
     "output_type": "stream",
     "text": [
      "<class 'pandas.core.frame.DataFrame'>\n",
      "Int64Index: 37675 entries, 0 to 1314\n",
      "Data columns (total 5 columns):\n",
      " #   Column      Non-Null Count  Dtype  \n",
      "---  ------      --------------  -----  \n",
      " 0   full_text   37675 non-null  object \n",
      " 1   created_at  37675 non-null  object \n",
      " 2   id          37675 non-null  int64  \n",
      " 3   lon         37675 non-null  float64\n",
      " 4   lat         37675 non-null  float64\n",
      "dtypes: float64(2), int64(1), object(2)\n",
      "memory usage: 1.7+ MB\n"
     ]
    }
   ],
   "source": [
    "def preprocess(text):\n",
    "    import preprocessor as p\n",
    "    import html\n",
    "    from multiprocessing.dummy import Pool as ThreadPool    \n",
    "    p.set_options(p.OPT.ESCAPE_CHAR, p.OPT.URL)\n",
    "    pool = ThreadPool()\n",
    "    results = pool.map(lambda d : p.clean(html.unescape(d)), text)\n",
    "    pool.close()\n",
    "    pool.join()\n",
    "    return results\n",
    "\n",
    "all_tweets_df = all_tweets_df[all_tweets_df['full_text'].str.len() != 0]\n",
    "all_tweets_df['full_text'] = preprocess(list(all_tweets_df['full_text'].values))\n",
    "all_tweets_df.info()"
   ]
  },
  {
   "cell_type": "code",
   "execution_count": 5,
   "metadata": {},
   "outputs": [
    {
     "data": {
      "text/plain": [
       "array(['#Natural_Hazards Sediment in New York Harbor: In the wake of Hurricane Irene’s heavy rains, sediment filled t...',\n",
       "       'National Hurricane Center drops Tropical Storm Watch for Indian River and St. Lucie Counties in east central Florida. #Arthur #Tropics #flwx',\n",
       "       'Знаєте,чому Бог створив спочатку чоловіка,а потім жінку?... спочатку робиться ескіз,ну а потім вже шедевр...',\n",
       "       'RT @mashable Hurricane Irene: NASA Posts Dramatic Full-Earth View [PIC]',\n",
       "       'Our thoughts go out to those who were effected by Hurricane Harvey. #psi #mentalhealth #therapy…'],\n",
       "      dtype=object)"
      ]
     },
     "execution_count": 5,
     "metadata": {},
     "output_type": "execute_result"
    }
   ],
   "source": [
    "all_tweets_df['full_text'].sample(5).values"
   ]
  },
  {
   "cell_type": "code",
   "execution_count": 7,
   "metadata": {},
   "outputs": [
    {
     "name": "stdout",
     "output_type": "stream",
     "text": [
      "Loading formatted geocoded file...\n"
     ]
    },
    {
     "data": {
      "text/html": [
       "<div>\n",
       "<style scoped>\n",
       "    .dataframe tbody tr th:only-of-type {\n",
       "        vertical-align: middle;\n",
       "    }\n",
       "\n",
       "    .dataframe tbody tr th {\n",
       "        vertical-align: top;\n",
       "    }\n",
       "\n",
       "    .dataframe thead th {\n",
       "        text-align: right;\n",
       "    }\n",
       "</style>\n",
       "<table border=\"1\" class=\"dataframe\">\n",
       "  <thead>\n",
       "    <tr style=\"text-align: right;\">\n",
       "      <th></th>\n",
       "      <th>lat</th>\n",
       "      <th>lon</th>\n",
       "      <th>name</th>\n",
       "      <th>admin1</th>\n",
       "      <th>admin2</th>\n",
       "      <th>cc</th>\n",
       "    </tr>\n",
       "  </thead>\n",
       "  <tbody>\n",
       "    <tr>\n",
       "      <th>0</th>\n",
       "      <td>32.85791</td>\n",
       "      <td>-97.25474</td>\n",
       "      <td>Watauga</td>\n",
       "      <td>Texas</td>\n",
       "      <td>Tarrant County</td>\n",
       "      <td>US</td>\n",
       "    </tr>\n",
       "    <tr>\n",
       "      <th>1</th>\n",
       "      <td>40.66593</td>\n",
       "      <td>-73.48818</td>\n",
       "      <td>Seaford</td>\n",
       "      <td>New York</td>\n",
       "      <td>Nassau County</td>\n",
       "      <td>US</td>\n",
       "    </tr>\n",
       "    <tr>\n",
       "      <th>2</th>\n",
       "      <td>41.85003</td>\n",
       "      <td>-87.65005</td>\n",
       "      <td>Chicago</td>\n",
       "      <td>Illinois</td>\n",
       "      <td>Cook County</td>\n",
       "      <td>US</td>\n",
       "    </tr>\n",
       "    <tr>\n",
       "      <th>3</th>\n",
       "      <td>34.03517</td>\n",
       "      <td>-77.8936</td>\n",
       "      <td>Carolina Beach</td>\n",
       "      <td>North Carolina</td>\n",
       "      <td>New Hanover County</td>\n",
       "      <td>US</td>\n",
       "    </tr>\n",
       "    <tr>\n",
       "      <th>4</th>\n",
       "      <td>37.55376</td>\n",
       "      <td>-77.46026</td>\n",
       "      <td>Richmond</td>\n",
       "      <td>Virginia</td>\n",
       "      <td>City of Richmond</td>\n",
       "      <td>US</td>\n",
       "    </tr>\n",
       "    <tr>\n",
       "      <th>...</th>\n",
       "      <td>...</td>\n",
       "      <td>...</td>\n",
       "      <td>...</td>\n",
       "      <td>...</td>\n",
       "      <td>...</td>\n",
       "      <td>...</td>\n",
       "    </tr>\n",
       "    <tr>\n",
       "      <th>37670</th>\n",
       "      <td>26.58368</td>\n",
       "      <td>-80.10032</td>\n",
       "      <td>Seminole Manor</td>\n",
       "      <td>Florida</td>\n",
       "      <td>Palm Beach County</td>\n",
       "      <td>US</td>\n",
       "    </tr>\n",
       "    <tr>\n",
       "      <th>37671</th>\n",
       "      <td>37.63049</td>\n",
       "      <td>-122.41108</td>\n",
       "      <td>San Bruno</td>\n",
       "      <td>California</td>\n",
       "      <td>San Mateo County</td>\n",
       "      <td>US</td>\n",
       "    </tr>\n",
       "    <tr>\n",
       "      <th>37672</th>\n",
       "      <td>33.98928</td>\n",
       "      <td>-83.4096</td>\n",
       "      <td>Country Club Estates</td>\n",
       "      <td>Georgia</td>\n",
       "      <td>Clarke County</td>\n",
       "      <td>US</td>\n",
       "    </tr>\n",
       "    <tr>\n",
       "      <th>37673</th>\n",
       "      <td>21.30694</td>\n",
       "      <td>-157.85833</td>\n",
       "      <td>Honolulu</td>\n",
       "      <td>Hawaii</td>\n",
       "      <td>Honolulu County</td>\n",
       "      <td>US</td>\n",
       "    </tr>\n",
       "    <tr>\n",
       "      <th>37674</th>\n",
       "      <td>31.21273</td>\n",
       "      <td>-81.46427</td>\n",
       "      <td>Country Club Estates</td>\n",
       "      <td>Georgia</td>\n",
       "      <td>Glynn County</td>\n",
       "      <td>US</td>\n",
       "    </tr>\n",
       "  </tbody>\n",
       "</table>\n",
       "<p>37675 rows × 6 columns</p>\n",
       "</div>"
      ],
      "text/plain": [
       "            lat         lon                  name          admin1  \\\n",
       "0      32.85791   -97.25474               Watauga           Texas   \n",
       "1      40.66593   -73.48818               Seaford        New York   \n",
       "2      41.85003   -87.65005               Chicago        Illinois   \n",
       "3      34.03517    -77.8936        Carolina Beach  North Carolina   \n",
       "4      37.55376   -77.46026              Richmond        Virginia   \n",
       "...         ...         ...                   ...             ...   \n",
       "37670  26.58368   -80.10032        Seminole Manor         Florida   \n",
       "37671  37.63049  -122.41108             San Bruno      California   \n",
       "37672  33.98928    -83.4096  Country Club Estates         Georgia   \n",
       "37673  21.30694  -157.85833              Honolulu          Hawaii   \n",
       "37674  31.21273   -81.46427  Country Club Estates         Georgia   \n",
       "\n",
       "                   admin2  cc  \n",
       "0          Tarrant County  US  \n",
       "1           Nassau County  US  \n",
       "2             Cook County  US  \n",
       "3      New Hanover County  US  \n",
       "4        City of Richmond  US  \n",
       "...                   ...  ..  \n",
       "37670   Palm Beach County  US  \n",
       "37671    San Mateo County  US  \n",
       "37672       Clarke County  US  \n",
       "37673     Honolulu County  US  \n",
       "37674        Glynn County  US  \n",
       "\n",
       "[37675 rows x 6 columns]"
      ]
     },
     "execution_count": 7,
     "metadata": {},
     "output_type": "execute_result"
    }
   ],
   "source": [
    "def get_inexact_location(latlong):\n",
    "    import reverse_geocoder as rg\n",
    "    results = rg.search(latlong)\n",
    "    return pd.DataFrame(results)\n",
    "locs = get_inexact_location(list(zip(all_tweets_df['lat'], all_tweets_df['lon'])))\n",
    "locs"
   ]
  },
  {
   "cell_type": "code",
   "execution_count": 8,
   "metadata": {},
   "outputs": [],
   "source": [
    "all_tweets_df = all_tweets_df.merge(locs, left_index=True, right_index=True).reset_index(drop=True)\n",
    "all_tweets_df.to_pickle(\"../data/acleaned.pkl\", protocol=4)"
   ]
  },
  {
   "cell_type": "code",
   "execution_count": 9,
   "metadata": {},
   "outputs": [
    {
     "name": "stdout",
     "output_type": "stream",
     "text": [
      "stdin: is not a tty\n",
      "scp: /home/atharva2/LING_506_MAC/data/: Is a directory\n"
     ]
    }
   ],
   "source": [
    "# ssh onto linux.ews.illinois.edu\n",
    "! scp -r ../data/acleaned.pkl atharva2@linux.ews.illinois.edu:~/LING_506_MAC/data/\n",
    "# big_proc.ipynb"
   ]
  },
  {
   "cell_type": "markdown",
   "metadata": {},
   "source": [
    "## Process Hurricane Path"
   ]
  },
  {
   "cell_type": "code",
   "execution_count": 22,
   "metadata": {},
   "outputs": [],
   "source": [
    "# fn  = '../data/track.dat'\n",
    "# rec = {'lat':[],'lon':[],'wind':[],'press':[],'dt':[],'cat':[]}\n",
    "# for i,line in enumerate(open(fn)):\n",
    "#     if i == 0: continue  # Jump over the first line\n",
    "#     # replace multiple whitespaces with a single whitespace\n",
    "#     line   = re.sub(r\"\\s+\", ' ', line)\n",
    "#     pieces = line.split(\" \")\n",
    "#     # retrieve information\n",
    "#     rec['lat'].append(float(pieces[0]))\n",
    "#     rec['lon'].append(float(pieces[1]))\n",
    "#     rec['wind'].append(float(pieces[3]))\n",
    "#     rec['press'].append(float(pieces[4]))\n",
    "#     rec['cat'].append((\" \".join(pieces[5:])).strip())\n",
    "#     time   = pieces[2]\n",
    "#     time   = \"2012/\" + time\n",
    "#     rec['dt'].append(datetime.strptime(time,\"%Y/%m/%d/%HZ\"))\n",
    "    \n",
    "    \n",
    "# track = pd.DataFrame.from_dict(rec)\n",
    "\n",
    "# track.to_pickle(\"../data/track.pkl\", protocol=4)"
   ]
  },
  {
   "cell_type": "code",
   "execution_count": 23,
   "metadata": {},
   "outputs": [],
   "source": [
    "track = pd.read_csv(\"../data/track.csv\")\n",
    "\n",
    "track['TIME_'] = pd.to_datetime(track['TIME_'], format='%Y%m%d%H%M%S')\n",
    "\n",
    "track.to_pickle(\"../data/track.pkl\", protocol=4)"
   ]
  },
  {
   "cell_type": "code",
   "execution_count": null,
   "metadata": {},
   "outputs": [],
   "source": []
  }
 ],
 "metadata": {
  "kernelspec": {
   "display_name": "Python 3",
   "language": "python",
   "name": "python3"
  },
  "language_info": {
   "codemirror_mode": {
    "name": "ipython",
    "version": 3
   },
   "file_extension": ".py",
   "mimetype": "text/x-python",
   "name": "python",
   "nbconvert_exporter": "python",
   "pygments_lexer": "ipython3",
   "version": "3.8.5"
  }
 },
 "nbformat": 4,
 "nbformat_minor": 4
}
