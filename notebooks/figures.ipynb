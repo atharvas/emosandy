{
 "cells": [
  {
   "cell_type": "code",
   "execution_count": 1,
   "metadata": {},
   "outputs": [],
   "source": [
    "import pandas as pd"
   ]
  },
  {
   "cell_type": "code",
   "execution_count": 9,
   "metadata": {},
   "outputs": [
    {
     "name": "stdout",
     "output_type": "stream",
     "text": [
      "\\begin{tabular}{ll}\n",
      "\\toprule\n",
      "{} &                                                                                                                          full\\_text \\\\\n",
      "\\midrule\n",
      "0 &  So there's going to be a hurricane tonight and classes aren't cancelled!? Am I missing something here? \\#comeon \\#getittogetherguys \\\\\n",
      "1 &                                         They named the hurricane that will be coming up the coast this weekend Frankenstorm.. \\#wtf \\\\\n",
      "\\bottomrule\n",
      "\\end{tabular}\n",
      "\n"
     ]
    }
   ],
   "source": [
    "\n",
    "def getlatex(arr):\n",
    "    with pd.option_context(\"max_colwidth\", 1000):\n",
    "        print(arr.to_latex(multicolumn=True, header=True, index_names=False, ))\n",
    "\n",
    "dset = 'sandy'\n",
    "\n",
    "arr = pd.read_pickle(f\"../data/pickles/{dset}/big.pkl\").head(2)['full_text']\n",
    "\n",
    "getlatex(arr)"
   ]
  },
  {
   "cell_type": "code",
   "execution_count": 10,
   "metadata": {},
   "outputs": [
    {
     "name": "stdout",
     "output_type": "stream",
     "text": [
      "\\begin{tabular}{lrrr}\n",
      "\\toprule\n",
      "{} &  4 bins &  5 bins &  6 bins \\\\\n",
      "\\midrule\n",
      "0 &  0.9700 &   0.950 &   0.380 \\\\\n",
      "1 &  0.9800 &   0.980 &   0.960 \\\\\n",
      "2 &  0.9850 &   0.985 &   0.970 \\\\\n",
      "3 &  0.9850 &   0.985 &   0.970 \\\\\n",
      "4 &  0.9850 &   0.985 &   0.970 \\\\\n",
      "5 &  0.9205 &   0.900 &   0.891 \\\\\n",
      "\\bottomrule\n",
      "\\end{tabular}\n",
      "\n"
     ]
    }
   ],
   "source": [
    "arr = pd.DataFrame([\n",
    "    [0.97,\t0.95,\t0.38],\n",
    "[0.98,\t0.98,\t0.96],\n",
    "[0.985,\t0.985,\t0.97],\n",
    "[0.985,\t0.985,\t0.97],\n",
    "[0.985,\t0.985,\t0.97],\n",
    "[0.9205,\t0.9,\t0.891],\n",
    "], columns=['4 bins', '5 bins', '6 bins'])\n",
    "\n",
    "\n",
    "arr.index.name = 'Epochs'\n",
    "\n",
    "\n",
    "getlatex(arr)"
   ]
  },
  {
   "cell_type": "code",
   "execution_count": null,
   "metadata": {},
   "outputs": [],
   "source": [
    "\t\t0.78\t0.563\t0.7239\n",
    "\t\t0.867\t0.836\t0.8144\n",
    "\t\t0.87\t0.851\t0.8162\n",
    "\t\t0.879\t0.851\t0.8164\n",
    "\t\t0.87\t0.851\t0.8164\n",
    "\t0.949\t0.9435\t0.9415"
   ]
  }
 ],
 "metadata": {
  "kernelspec": {
   "display_name": "Python 3",
   "language": "python",
   "name": "python3"
  },
  "language_info": {
   "codemirror_mode": {
    "name": "ipython",
    "version": 3
   },
   "file_extension": ".py",
   "mimetype": "text/x-python",
   "name": "python",
   "nbconvert_exporter": "python",
   "pygments_lexer": "ipython3",
   "version": "3.6.12"
  }
 },
 "nbformat": 4,
 "nbformat_minor": 4
}
