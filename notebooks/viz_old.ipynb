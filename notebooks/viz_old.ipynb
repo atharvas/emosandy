{
 "cells": [
  {
   "cell_type": "code",
   "execution_count": 64,
   "metadata": {
    "tags": []
   },
   "outputs": [
    {
     "name": "stdout",
     "output_type": "stream",
     "text": [
      "Collecting emoji\n",
      "  Downloading emoji-0.6.0.tar.gz (51 kB)\n",
      "\u001b[K     |████████████████████████████████| 51 kB 1.5 MB/s \n",
      "\u001b[?25hBuilding wheels for collected packages: emoji\n",
      "  Building wheel for emoji (setup.py) ... \u001b[?25ldone\n",
      "\u001b[?25h  Created wheel for emoji: filename=emoji-0.6.0-py3-none-any.whl size=49714 sha256=98d8ba74052304003a9b726592062b43ad247ac2a909fb5ab20d3f59ad549db3\n",
      "  Stored in directory: /home/atharvas/.cache/pip/wheels/43/3d/82/e7baffa5e86346c6178d7750dba6e8ef063282a37fc563f8f8\n",
      "Successfully built emoji\n",
      "Installing collected packages: emoji\n",
      "Successfully installed emoji-0.6.0\n"
     ]
    }
   ],
   "source": [
    "# !pip3 install plotly numpy pandas retrying urllib3 matplotlib bokeh --user\n",
    "import numpy as np\n",
    "import pandas as pd\n",
    "# import plotly\n",
    "import json\n",
    "token = \"pk.eyJ1IjoiYXRoYXJ2YXMiLCJhIjoiY2tnZ3Q2dGV4MHpreDJzdDl2Ync4ODJvZyJ9.jFeZV_Mn0i5qufHmTmYYfQ\"\n",
    "\n",
    "from datetime import datetime\n",
    "import re\n",
    "\n",
    "# !pip install html5lib\n",
    "!pip install emoji\n",
    "import emoji\n",
    "# !pip install bs4\n",
    "\n",
    "import emoji\n",
    "# !pip install bs4\n"
   ]
  },
  {
   "cell_type": "code",
   "execution_count": null,
   "metadata": {},
   "outputs": [],
   "source": []
  },
  {
   "cell_type": "code",
   "execution_count": 199,
   "metadata": {},
   "outputs": [],
   "source": []
  },
  {
   "cell_type": "code",
   "execution_count": 1,
   "metadata": {
    "tags": []
   },
   "outputs": [
    {
     "ename": "NameError",
     "evalue": "name 'pd' is not defined",
     "output_type": "error",
     "traceback": [
      "\u001b[0;31m---------------------------------------------------------------------------\u001b[0m",
      "\u001b[0;31mNameError\u001b[0m                                 Traceback (most recent call last)",
      "\u001b[0;32m<ipython-input-1-317ced2d88c7>\u001b[0m in \u001b[0;36m<module>\u001b[0;34m\u001b[0m\n\u001b[0;32m----> 1\u001b[0;31m \u001b[0mprocmoji\u001b[0m \u001b[0;34m=\u001b[0m \u001b[0mpd\u001b[0m\u001b[0;34m.\u001b[0m\u001b[0mread_csv\u001b[0m\u001b[0;34m(\u001b[0m\u001b[0;34m\"bigmoji.csv\"\u001b[0m\u001b[0;34m,\u001b[0m \u001b[0mlineterminator\u001b[0m\u001b[0;34m=\u001b[0m\u001b[0;34m\"\\n\"\u001b[0m\u001b[0;34m)\u001b[0m\u001b[0;34m\u001b[0m\u001b[0;34m\u001b[0m\u001b[0m\n\u001b[0m\u001b[1;32m      2\u001b[0m \u001b[0;32mwith\u001b[0m \u001b[0mopen\u001b[0m\u001b[0;34m(\u001b[0m\u001b[0;34m\"./torchMoji/data/emoji_codes.json\"\u001b[0m\u001b[0;34m,\u001b[0m \u001b[0;34m'r'\u001b[0m\u001b[0;34m)\u001b[0m \u001b[0;32mas\u001b[0m \u001b[0ms\u001b[0m\u001b[0;34m:\u001b[0m\u001b[0;34m\u001b[0m\u001b[0;34m\u001b[0m\u001b[0m\n\u001b[1;32m      3\u001b[0m     \u001b[0mnum2emoji\u001b[0m \u001b[0;34m=\u001b[0m \u001b[0mjson\u001b[0m\u001b[0;34m.\u001b[0m\u001b[0mload\u001b[0m\u001b[0;34m(\u001b[0m\u001b[0ms\u001b[0m\u001b[0;34m)\u001b[0m\u001b[0;34m\u001b[0m\u001b[0;34m\u001b[0m\u001b[0m\n\u001b[1;32m      4\u001b[0m \u001b[0;34m\u001b[0m\u001b[0m\n\u001b[1;32m      5\u001b[0m \u001b[0;34m\u001b[0m\u001b[0m\n",
      "\u001b[0;31mNameError\u001b[0m: name 'pd' is not defined"
     ]
    }
   ],
   "source": [
    "procmoji = pd.read_csv(\"bigmoji.csv\", lineterminator=\"\\n\")\n",
    "with open(\"./torchMoji/data/emoji_codes.json\", 'r') as s:\n",
    "    num2emoji = json.load(s)\n",
    "\n",
    "\n",
    "for col in ['Emoji_1','Emoji_2','Emoji_3','Emoji_4','Emoji_5']:\n",
    "    procmoji[col] = procmoji[col].astype(int).astype(str).map(num2emoji).str.replace(\":\", \"\").apply(lambda x : emoji_to_sent[x]['Sentiment score[-1...+1]'])\n",
    "procmoji['Sentiment'] = procmoji[['Emoji_1','Emoji_2','Emoji_3','Emoji_4','Emoji_5']].mean(axis=1)\n",
    "\n",
    "\n",
    "\n"
   ]
  },
  {
   "cell_type": "code",
   "execution_count": 2,
   "metadata": {},
   "outputs": [
    {
     "data": {
      "text/html": [
       "<div>\n",
       "<style scoped>\n",
       "    .dataframe tbody tr th:only-of-type {\n",
       "        vertical-align: middle;\n",
       "    }\n",
       "\n",
       "    .dataframe tbody tr th {\n",
       "        vertical-align: top;\n",
       "    }\n",
       "\n",
       "    .dataframe thead th {\n",
       "        text-align: right;\n",
       "    }\n",
       "</style>\n",
       "<table border=\"1\" class=\"dataframe\">\n",
       "  <thead>\n",
       "    <tr style=\"text-align: right;\">\n",
       "      <th></th>\n",
       "      <th>full_text</th>\n",
       "      <th>created_at</th>\n",
       "      <th>id</th>\n",
       "      <th>long</th>\n",
       "      <th>lat</th>\n",
       "      <th>created_at_date</th>\n",
       "      <th>polarity</th>\n",
       "    </tr>\n",
       "  </thead>\n",
       "  <tbody>\n",
       "    <tr>\n",
       "      <th>0</th>\n",
       "      <td>So there's going to be a hurricane tonight and...</td>\n",
       "      <td>Thu Oct 25 19:18:02 +0000 2012</td>\n",
       "      <td>261547183722082300</td>\n",
       "      <td>-80.062265</td>\n",
       "      <td>26.844194</td>\n",
       "      <td>2012-10-25 19:18:02+00:00</td>\n",
       "      <td>-0.2</td>\n",
       "    </tr>\n",
       "    <tr>\n",
       "      <th>1</th>\n",
       "      <td>They named the hurricane that will be coming u...</td>\n",
       "      <td>Thu Oct 25 19:18:42 +0000 2012</td>\n",
       "      <td>261547349921370100</td>\n",
       "      <td>-74.549170</td>\n",
       "      <td>40.618274</td>\n",
       "      <td>2012-10-25 19:18:42+00:00</td>\n",
       "      <td>-0.5</td>\n",
       "    </tr>\n",
       "  </tbody>\n",
       "</table>\n",
       "</div>"
      ],
      "text/plain": [
       "                                           full_text  \\\n",
       "0  So there's going to be a hurricane tonight and...   \n",
       "1  They named the hurricane that will be coming u...   \n",
       "\n",
       "                       created_at                  id       long        lat  \\\n",
       "0  Thu Oct 25 19:18:02 +0000 2012  261547183722082300 -80.062265  26.844194   \n",
       "1  Thu Oct 25 19:18:42 +0000 2012  261547349921370100 -74.549170  40.618274   \n",
       "\n",
       "            created_at_date  polarity  \n",
       "0 2012-10-25 19:18:02+00:00      -0.2  \n",
       "1 2012-10-25 19:18:42+00:00      -0.5  "
      ]
     },
     "execution_count": 2,
     "metadata": {},
     "output_type": "execute_result"
    }
   ],
   "source": [
    "proc = pd.read_pickle(\"./big.pkl\")\n",
    "proc.head(2)"
   ]
  },
  {
   "cell_type": "code",
   "execution_count": 3,
   "metadata": {},
   "outputs": [
    {
     "data": {
      "text/html": [
       "<div>\n",
       "<style scoped>\n",
       "    .dataframe tbody tr th:only-of-type {\n",
       "        vertical-align: middle;\n",
       "    }\n",
       "\n",
       "    .dataframe tbody tr th {\n",
       "        vertical-align: top;\n",
       "    }\n",
       "\n",
       "    .dataframe thead th {\n",
       "        text-align: right;\n",
       "    }\n",
       "</style>\n",
       "<table border=\"1\" class=\"dataframe\">\n",
       "  <thead>\n",
       "    <tr style=\"text-align: right;\">\n",
       "      <th></th>\n",
       "      <th>lat</th>\n",
       "      <th>lon</th>\n",
       "      <th>wind</th>\n",
       "      <th>press</th>\n",
       "      <th>dt</th>\n",
       "      <th>cat</th>\n",
       "    </tr>\n",
       "  </thead>\n",
       "  <tbody>\n",
       "    <tr>\n",
       "      <th>0</th>\n",
       "      <td>13.5</td>\n",
       "      <td>-78.0</td>\n",
       "      <td>25.0</td>\n",
       "      <td>1003.0</td>\n",
       "      <td>2012-10-22 15:00:00</td>\n",
       "      <td>TROPICAL DEPRESSION</td>\n",
       "    </tr>\n",
       "    <tr>\n",
       "      <th>1</th>\n",
       "      <td>13.5</td>\n",
       "      <td>-78.5</td>\n",
       "      <td>25.0</td>\n",
       "      <td>1003.0</td>\n",
       "      <td>2012-10-22 18:00:00</td>\n",
       "      <td>TROPICAL DEPRESSION</td>\n",
       "    </tr>\n",
       "  </tbody>\n",
       "</table>\n",
       "</div>"
      ],
      "text/plain": [
       "    lat   lon  wind   press                  dt                  cat\n",
       "0  13.5 -78.0  25.0  1003.0 2012-10-22 15:00:00  TROPICAL DEPRESSION\n",
       "1  13.5 -78.5  25.0  1003.0 2012-10-22 18:00:00  TROPICAL DEPRESSION"
      ]
     },
     "execution_count": 3,
     "metadata": {},
     "output_type": "execute_result"
    }
   ],
   "source": [
    "color_dict = {'TROPICAL DEPRESSION':'#AEF100', 'TROPICAL STORM':'#FFD600', 'HURRICANE-1':'#FF6440', 'HURRICANE-2':'#8506A9'}\n",
    "import re\n",
    "# Read data file, unzip from track.zip to get track.dat\n",
    "fn  = 'track.dat'\n",
    "rec = {'lat':[],'lon':[],'wind':[],'press':[],'dt':[],'cat':[]}\n",
    "for i,line in enumerate(open(fn)):\n",
    "    if i == 0: continue  # Jump over the first line\n",
    "    # replace multiple whitespaces with a single whitespace\n",
    "    line   = re.sub(r\"\\s+\", ' ', line)\n",
    "    pieces = line.split(\" \")\n",
    "    # retrieve information\n",
    "    rec['lat'].append(float(pieces[0]))\n",
    "    rec['lon'].append(float(pieces[1]))\n",
    "    rec['wind'].append(float(pieces[3]))\n",
    "    rec['press'].append(float(pieces[4]))\n",
    "    rec['cat'].append((\" \".join(pieces[5:])).strip())\n",
    "    time   = pieces[2]\n",
    "    time   = \"2012/\" + time\n",
    "    rec['dt'].append(datetime.strptime(time,\"%Y/%m/%d/%HZ\"))\n",
    "    \n",
    "    \n",
    "track = pd.DataFrame.from_dict(rec)\n",
    "\n",
    "track.head(2)"
   ]
  },
  {
   "cell_type": "code",
   "execution_count": 4,
   "metadata": {},
   "outputs": [],
   "source": [
    "times = pd.date_range(proc['created_at_date'].min().round(\"1H\"), proc['created_at_date'].max().round(\"1H\") + pd.DateOffset(hours=2), freq=\"2H\")\n",
    "times = [(times[i], times[i + 1]) for i in range(len(times) - 1)]\n",
    "times[0][0].strftime(\"%Y-%m-%d %H:%M\")\n",
    "process_time = lambda tup : \" (\" + tup[0].strftime(\"%Y-%m-%d %H:%M\") + \", \" + tup[1].strftime(\"%Y-%m-%d %H:%M\") + \")\"\n"
   ]
  },
  {
   "cell_type": "code",
   "execution_count": 6,
   "metadata": {},
   "outputs": [
    {
     "ename": "AttributeError",
     "evalue": "module 'retrying' has no attribute 'retry'",
     "output_type": "error",
     "traceback": [
      "\u001b[0;31m---------------------------------------------------------------------------\u001b[0m",
      "\u001b[0;31mAttributeError\u001b[0m                            Traceback (most recent call last)",
      "\u001b[0;32m<ipython-input-6-41562a6c3c3a>\u001b[0m in \u001b[0;36m<module>\u001b[0;34m\u001b[0m\n\u001b[0;32m----> 1\u001b[0;31m \u001b[0;32mimport\u001b[0m \u001b[0mplotly\u001b[0m\u001b[0;34m.\u001b[0m\u001b[0mgraph_objects\u001b[0m \u001b[0;32mas\u001b[0m \u001b[0mgo\u001b[0m\u001b[0;34m\u001b[0m\u001b[0;34m\u001b[0m\u001b[0m\n\u001b[0m\u001b[1;32m      2\u001b[0m \u001b[0;34m\u001b[0m\u001b[0m\n\u001b[1;32m      3\u001b[0m \u001b[0mmapbox_access_token\u001b[0m \u001b[0;34m=\u001b[0m \u001b[0mtoken\u001b[0m\u001b[0;34m\u001b[0m\u001b[0;34m\u001b[0m\u001b[0m\n\u001b[1;32m      4\u001b[0m \u001b[0;34m\u001b[0m\u001b[0m\n\u001b[1;32m      5\u001b[0m \u001b[0mfig\u001b[0m \u001b[0;34m=\u001b[0m \u001b[0mgo\u001b[0m\u001b[0;34m.\u001b[0m\u001b[0mFigure\u001b[0m\u001b[0;34m(\u001b[0m\u001b[0;34m)\u001b[0m\u001b[0;34m\u001b[0m\u001b[0;34m\u001b[0m\u001b[0m\n",
      "\u001b[0;32m~/.local/lib/python3.6/site-packages/plotly/__init__.py\u001b[0m in \u001b[0;36m<module>\u001b[0;34m\u001b[0m\n\u001b[1;32m     32\u001b[0m \u001b[0;34m\u001b[0m\u001b[0m\n\u001b[1;32m     33\u001b[0m \u001b[0;32mif\u001b[0m \u001b[0msys\u001b[0m\u001b[0;34m.\u001b[0m\u001b[0mversion_info\u001b[0m \u001b[0;34m<\u001b[0m \u001b[0;34m(\u001b[0m\u001b[0;36m3\u001b[0m\u001b[0;34m,\u001b[0m \u001b[0;36m7\u001b[0m\u001b[0;34m)\u001b[0m\u001b[0;34m:\u001b[0m\u001b[0;34m\u001b[0m\u001b[0;34m\u001b[0m\u001b[0m\n\u001b[0;32m---> 34\u001b[0;31m     from plotly import (\n\u001b[0m\u001b[1;32m     35\u001b[0m         \u001b[0mgraph_objs\u001b[0m\u001b[0;34m,\u001b[0m\u001b[0;34m\u001b[0m\u001b[0;34m\u001b[0m\u001b[0m\n\u001b[1;32m     36\u001b[0m         \u001b[0mtools\u001b[0m\u001b[0;34m,\u001b[0m\u001b[0;34m\u001b[0m\u001b[0;34m\u001b[0m\u001b[0m\n",
      "\u001b[0;32m~/.local/lib/python3.6/site-packages/plotly/io/__init__.py\u001b[0m in \u001b[0;36m<module>\u001b[0;34m\u001b[0m\n\u001b[1;32m      4\u001b[0m \u001b[0;32mif\u001b[0m \u001b[0msys\u001b[0m\u001b[0;34m.\u001b[0m\u001b[0mversion_info\u001b[0m \u001b[0;34m<\u001b[0m \u001b[0;34m(\u001b[0m\u001b[0;36m3\u001b[0m\u001b[0;34m,\u001b[0m \u001b[0;36m7\u001b[0m\u001b[0;34m)\u001b[0m\u001b[0;34m:\u001b[0m\u001b[0;34m\u001b[0m\u001b[0;34m\u001b[0m\u001b[0m\n\u001b[1;32m      5\u001b[0m     \u001b[0;32mfrom\u001b[0m \u001b[0;34m.\u001b[0m\u001b[0m_kaleido\u001b[0m \u001b[0;32mimport\u001b[0m \u001b[0mto_image\u001b[0m\u001b[0;34m,\u001b[0m \u001b[0mwrite_image\u001b[0m\u001b[0;34m,\u001b[0m \u001b[0mfull_figure_for_development\u001b[0m\u001b[0;34m\u001b[0m\u001b[0;34m\u001b[0m\u001b[0m\n\u001b[0;32m----> 6\u001b[0;31m     \u001b[0;32mfrom\u001b[0m \u001b[0;34m.\u001b[0m \u001b[0;32mimport\u001b[0m \u001b[0morca\u001b[0m\u001b[0;34m,\u001b[0m \u001b[0mkaleido\u001b[0m\u001b[0;34m\u001b[0m\u001b[0;34m\u001b[0m\u001b[0m\n\u001b[0m\u001b[1;32m      7\u001b[0m     \u001b[0;32mfrom\u001b[0m \u001b[0;34m.\u001b[0m\u001b[0m_json\u001b[0m \u001b[0;32mimport\u001b[0m \u001b[0mto_json\u001b[0m\u001b[0;34m,\u001b[0m \u001b[0mfrom_json\u001b[0m\u001b[0;34m,\u001b[0m \u001b[0mread_json\u001b[0m\u001b[0;34m,\u001b[0m \u001b[0mwrite_json\u001b[0m\u001b[0;34m\u001b[0m\u001b[0;34m\u001b[0m\u001b[0m\n\u001b[1;32m      8\u001b[0m     \u001b[0;32mfrom\u001b[0m \u001b[0;34m.\u001b[0m\u001b[0m_templates\u001b[0m \u001b[0;32mimport\u001b[0m \u001b[0mtemplates\u001b[0m\u001b[0;34m,\u001b[0m \u001b[0mto_templated\u001b[0m\u001b[0;34m\u001b[0m\u001b[0;34m\u001b[0m\u001b[0m\n",
      "\u001b[0;32m~/.local/lib/python3.6/site-packages/plotly/io/orca.py\u001b[0m in \u001b[0;36m<module>\u001b[0;34m\u001b[0m\n\u001b[0;32m----> 1\u001b[0;31m from ._orca import (\n\u001b[0m\u001b[1;32m      2\u001b[0m     \u001b[0mensure_server\u001b[0m\u001b[0;34m,\u001b[0m\u001b[0;34m\u001b[0m\u001b[0;34m\u001b[0m\u001b[0m\n\u001b[1;32m      3\u001b[0m     \u001b[0mshutdown_server\u001b[0m\u001b[0;34m,\u001b[0m\u001b[0;34m\u001b[0m\u001b[0;34m\u001b[0m\u001b[0m\n\u001b[1;32m      4\u001b[0m     \u001b[0mvalidate_executable\u001b[0m\u001b[0;34m,\u001b[0m\u001b[0;34m\u001b[0m\u001b[0;34m\u001b[0m\u001b[0m\n\u001b[1;32m      5\u001b[0m     \u001b[0mreset_status\u001b[0m\u001b[0;34m,\u001b[0m\u001b[0;34m\u001b[0m\u001b[0;34m\u001b[0m\u001b[0m\n",
      "\u001b[0;32m~/.local/lib/python3.6/site-packages/plotly/io/_orca.py\u001b[0m in \u001b[0;36m<module>\u001b[0;34m\u001b[0m\n\u001b[1;32m   1452\u001b[0m \u001b[0;34m\u001b[0m\u001b[0m\n\u001b[1;32m   1453\u001b[0m \u001b[0;34m\u001b[0m\u001b[0m\n\u001b[0;32m-> 1454\u001b[0;31m \u001b[0;34m@\u001b[0m\u001b[0mretrying\u001b[0m\u001b[0;34m.\u001b[0m\u001b[0mretry\u001b[0m\u001b[0;34m(\u001b[0m\u001b[0mwait_random_min\u001b[0m\u001b[0;34m=\u001b[0m\u001b[0;36m5\u001b[0m\u001b[0;34m,\u001b[0m \u001b[0mwait_random_max\u001b[0m\u001b[0;34m=\u001b[0m\u001b[0;36m10\u001b[0m\u001b[0;34m,\u001b[0m \u001b[0mstop_max_delay\u001b[0m\u001b[0;34m=\u001b[0m\u001b[0;36m60000\u001b[0m\u001b[0;34m)\u001b[0m\u001b[0;34m\u001b[0m\u001b[0;34m\u001b[0m\u001b[0m\n\u001b[0m\u001b[1;32m   1455\u001b[0m \u001b[0;32mdef\u001b[0m \u001b[0mrequest_image_with_retrying\u001b[0m\u001b[0;34m(\u001b[0m\u001b[0;34m**\u001b[0m\u001b[0mkwargs\u001b[0m\u001b[0;34m)\u001b[0m\u001b[0;34m:\u001b[0m\u001b[0;34m\u001b[0m\u001b[0;34m\u001b[0m\u001b[0m\n\u001b[1;32m   1456\u001b[0m     \"\"\"\n",
      "\u001b[0;31mAttributeError\u001b[0m: module 'retrying' has no attribute 'retry'"
     ]
    }
   ],
   "source": [
    "import plotly.graph_objects as go\n",
    "\n",
    "mapbox_access_token = token\n",
    "\n",
    "fig = go.Figure()\n",
    "\n",
    "for start, end in times:\n",
    "        selected_data = proc[(start < proc['created_at_date']) & (proc['created_at_date'] < end)]\n",
    "\n",
    "        selected_data = selected_data[['lat', 'long', 'full_text', 'id', 'created_at', 'created_at_date', 'polarity']]\n",
    "\n",
    "        selected_data['hover_text'] = selected_data['created_at'] + ': ' + selected_data['full_text'] \n",
    "        trace = go.Scattermapbox(\n",
    "            lat=selected_data['lat'],\n",
    "            lon=selected_data['long'],\n",
    "            mode='markers',\n",
    "            \n",
    "            marker=go.scattermapbox.Marker(\n",
    "                size=14, \n",
    "                color = selected_data['polarity'],\n",
    "                colorscale= 'picnic',\n",
    "                showscale=True,\n",
    "                cmax=1.0,\n",
    "                cmin=-1.0),\n",
    "            text=selected_data['hover_text'],\n",
    "            \n",
    "#             name= start.strftime(\"%Y-%m-%d %H:%M\")\n",
    "        )\n",
    "        \n",
    "        fig.add_trace(trace)        \n",
    "        \n",
    "        \n",
    "\n",
    "fig.data[0].visible = True\n",
    "\n",
    "steps = []\n",
    "for i in range(len(fig.data)):\n",
    "    step = dict(\n",
    "        method=\"update\",\n",
    "        args=[{\"visible\": [False] * len(fig.data)},\n",
    "              {\"title\": \"Tweets during time interval\" + process_time(times[i])}],  # layout attribute\n",
    "    )\n",
    "    step[\"args\"][0][\"visible\"][i] = True  # Toggle i'th trace to \"visible\"\n",
    "    steps.append(step)\n",
    "\n",
    "sliders = [dict(\n",
    "    active=0,\n",
    "    currentvalue={\"prefix\": \"Date: \"},\n",
    "    pad={\"t\": 50},\n",
    "    steps=steps\n",
    ")]\n",
    "\n",
    "\n",
    "\n",
    "fig.update_layout(\n",
    "    hovermode='closest',\n",
    "    mapbox=dict(\n",
    "        accesstoken=mapbox_access_token,\n",
    "        bearing=0,\n",
    "        center=go.layout.mapbox.Center(\n",
    "            lat=45,\n",
    "            lon=-73\n",
    "        ),\n",
    "        pitch=0,\n",
    "        zoom=5\n",
    "    ), \n",
    "    sliders=sliders\n",
    "\n",
    ")\n",
    "\n",
    "\n",
    "fig.write_html(\"./bigplot.html\")"
   ]
  }
 ],
 "metadata": {
  "kernelspec": {
   "display_name": "Python 3",
   "language": "python",
   "name": "python3"
  },
  "language_info": {
   "codemirror_mode": {
    "name": "ipython",
    "version": 3
   },
   "file_extension": ".py",
   "mimetype": "text/x-python",
   "name": "python",
   "nbconvert_exporter": "python",
   "pygments_lexer": "ipython3",
   "version": "3.6.12"
  }
 },
 "nbformat": 4,
 "nbformat_minor": 4
}
