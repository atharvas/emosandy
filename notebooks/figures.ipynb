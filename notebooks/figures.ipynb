{
 "metadata": {
  "language_info": {
   "codemirror_mode": {
    "name": "ipython",
    "version": 3
   },
   "file_extension": ".py",
   "mimetype": "text/x-python",
   "name": "python",
   "nbconvert_exporter": "python",
   "pygments_lexer": "ipython3",
   "version": "3.8.2-final"
  },
  "orig_nbformat": 2,
  "kernelspec": {
   "name": "python3",
   "display_name": "Python 3.8.2 64-bit ('local': venv)",
   "metadata": {
    "interpreter": {
     "hash": "d81a3c81475d1afbeebd28317de0019e88c4245fe4a911101c83be0409db051e"
    }
   }
  }
 },
 "nbformat": 4,
 "nbformat_minor": 2,
 "cells": [
  {
   "cell_type": "code",
   "execution_count": 1,
   "metadata": {},
   "outputs": [],
   "source": [
    "import pandas as pd"
   ]
  },
  {
   "cell_type": "code",
   "execution_count": 25,
   "metadata": {},
   "outputs": [
    {
     "output_type": "stream",
     "name": "stdout",
     "text": [
      "\\begin{longtable}{p{3.5cm}|p{5cm}}\n\\toprule\n                                                                                                                         full\\_text \\\\\n\\midrule\n\\endhead\n\\midrule\n\\multicolumn{1}{r}{{Continued on next page}} \\\\\n\\midrule\n\\endfoot\n\n\\bottomrule\n\\endlastfoot\n So there's going to be a hurricane tonight and classes aren't cancelled!? Am I missing something here? \\#comeon \\#getittogetherguys \\\\\n                                        They named the hurricane that will be coming up the coast this weekend Frankenstorm.. \\#wtf \\\\\n\\end{longtable}\n\n"
     ]
    }
   ],
   "source": [
    "\n",
    "def getlatex(arr):\n",
    "    with pd.option_context(\"max_colwidth\", 1000):\n",
    "        print(arr.to_latex(multicolumn=True, header=True, index_names=False, column_format='p{3.5cm}|p{5cm}'))\n",
    "\n",
    "dset = 'sandy'\n",
    "\n",
    "arr = pd.read_pickle(f\"../data/pickles/{dset}/big.pkl\").head(2)['full_text']\n",
    "\n",
    "getlatex(arr)"
   ]
  },
  {
   "cell_type": "code",
   "execution_count": null,
   "metadata": {},
   "outputs": [],
   "source": []
  }
 ]
}