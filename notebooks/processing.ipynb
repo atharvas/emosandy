{
 "cells": [
  {
   "cell_type": "code",
   "execution_count": 1,
   "metadata": {},
   "outputs": [
    {
     "data": {
      "text/html": [
       "<table style=\"border: 2px solid white;\">\n",
       "<tr>\n",
       "<td style=\"vertical-align: top; border: 0px solid white\">\n",
       "<h3 style=\"text-align: left;\">Client</h3>\n",
       "<ul style=\"text-align: left; list-style: none; margin: 0; padding: 0;\">\n",
       "  <li><b>Scheduler: </b>tcp://127.0.0.1:61540</li>\n",
       "  <li><b>Dashboard: </b><a href='http://127.0.0.1:8787/status' target='_blank'>http://127.0.0.1:8787/status</a></li>\n",
       "</ul>\n",
       "</td>\n",
       "<td style=\"vertical-align: top; border: 0px solid white\">\n",
       "<h3 style=\"text-align: left;\">Cluster</h3>\n",
       "<ul style=\"text-align: left; list-style:none; margin: 0; padding: 0;\">\n",
       "  <li><b>Workers: </b>4</li>\n",
       "  <li><b>Cores: </b>8</li>\n",
       "  <li><b>Memory: </b>17.18 GB</li>\n",
       "</ul>\n",
       "</td>\n",
       "</tr>\n",
       "</table>"
      ],
      "text/plain": [
       "<Client: 'tcp://127.0.0.1:61540' processes=4 threads=8, memory=17.18 GB>"
      ]
     },
     "execution_count": 1,
     "metadata": {},
     "output_type": "execute_result"
    }
   ],
   "source": [
    "import os\n",
    "import pandas as pd\n",
    "import random\n",
    "import re\n",
    "import json\n",
    "import emoji\n",
    "from datetime import datetime\n",
    "random.seed(493)\n",
    "import dask\n",
    "import json\n",
    "import dask.dataframe as dd\n",
    "import dask.bag as db\n",
    "from dask.distributed import Client, progress\n",
    "client = Client(n_workers=4, threads_per_worker=2)\n",
    "\n",
    "client"
   ]
  },
  {
   "cell_type": "code",
   "execution_count": 2,
   "metadata": {},
   "outputs": [
    {
     "data": {
      "text/html": [
       "<div>\n",
       "<style scoped>\n",
       "    .dataframe tbody tr th:only-of-type {\n",
       "        vertical-align: middle;\n",
       "    }\n",
       "\n",
       "    .dataframe tbody tr th {\n",
       "        vertical-align: top;\n",
       "    }\n",
       "\n",
       "    .dataframe thead th {\n",
       "        text-align: right;\n",
       "    }\n",
       "</style>\n",
       "<table border=\"1\" class=\"dataframe\">\n",
       "  <thead>\n",
       "    <tr style=\"text-align: right;\">\n",
       "      <th></th>\n",
       "      <th>full_text</th>\n",
       "      <th>created_at</th>\n",
       "      <th>id</th>\n",
       "      <th>lon</th>\n",
       "      <th>lat</th>\n",
       "    </tr>\n",
       "  </thead>\n",
       "  <tbody>\n",
       "    <tr>\n",
       "      <th>0</th>\n",
       "      <td>So there's going to be a hurricane tonight and...</td>\n",
       "      <td>Thu Oct 25 19:18:02 +0000 2012</td>\n",
       "      <td>261547183722082300</td>\n",
       "      <td>-80.062265</td>\n",
       "      <td>26.844194</td>\n",
       "    </tr>\n",
       "    <tr>\n",
       "      <th>1</th>\n",
       "      <td>They named the hurricane that will be coming u...</td>\n",
       "      <td>Thu Oct 25 19:18:42 +0000 2012</td>\n",
       "      <td>261547349921370100</td>\n",
       "      <td>-74.549170</td>\n",
       "      <td>40.618274</td>\n",
       "    </tr>\n",
       "    <tr>\n",
       "      <th>2</th>\n",
       "      <td>@Pototo_28 LMFAO!!!! I'm quite  jealous that a...</td>\n",
       "      <td>Thu Oct 25 19:18:46 +0000 2012</td>\n",
       "      <td>261547369261301760</td>\n",
       "      <td>-80.327574</td>\n",
       "      <td>25.870439</td>\n",
       "    </tr>\n",
       "    <tr>\n",
       "      <th>3</th>\n",
       "      <td>So we're suppose to get a hurricane  Monday...</td>\n",
       "      <td>Thu Oct 25 19:19:06 +0000 2012</td>\n",
       "      <td>261547450463051780</td>\n",
       "      <td>-72.901798</td>\n",
       "      <td>40.912246</td>\n",
       "    </tr>\n",
       "    <tr>\n",
       "      <th>4</th>\n",
       "      <td>I'm pumped for this hurricane</td>\n",
       "      <td>Thu Oct 25 19:19:36 +0000 2012</td>\n",
       "      <td>261547576652881920</td>\n",
       "      <td>-74.100116</td>\n",
       "      <td>40.855067</td>\n",
       "    </tr>\n",
       "  </tbody>\n",
       "</table>\n",
       "</div>"
      ],
      "text/plain": [
       "                                           full_text  \\\n",
       "0  So there's going to be a hurricane tonight and...   \n",
       "1  They named the hurricane that will be coming u...   \n",
       "2  @Pototo_28 LMFAO!!!! I'm quite  jealous that a...   \n",
       "3     So we're suppose to get a hurricane  Monday...   \n",
       "4                      I'm pumped for this hurricane   \n",
       "\n",
       "                       created_at                  id        lon        lat  \n",
       "0  Thu Oct 25 19:18:02 +0000 2012  261547183722082300 -80.062265  26.844194  \n",
       "1  Thu Oct 25 19:18:42 +0000 2012  261547349921370100 -74.549170  40.618274  \n",
       "2  Thu Oct 25 19:18:46 +0000 2012  261547369261301760 -80.327574  25.870439  \n",
       "3  Thu Oct 25 19:19:06 +0000 2012  261547450463051780 -72.901798  40.912246  \n",
       "4  Thu Oct 25 19:19:36 +0000 2012  261547576652881920 -74.100116  40.855067  "
      ]
     },
     "execution_count": 2,
     "metadata": {},
     "output_type": "execute_result"
    }
   ],
   "source": [
    "def process_raw_data(path, name):\n",
    "    if not os.path.exists(f\"../data/{name}.pkl\"):\n",
    "        print(client, client.dashboard_link)\n",
    "        b = db.read_text(f'{path}/x**').map(json.loads)\n",
    "\n",
    "        flatten = lambda rec: {\n",
    "                    'full_text': rec['full_text'],\n",
    "                    'created_at': rec['created_at'],\n",
    "                    'id': rec['id'],\n",
    "                    'lon': rec['coordinates']['coordinates'][0],\n",
    "                    'lat': rec['coordinates']['coordinates'][1]}\n",
    "\n",
    "        tweets_df = b.filter(lambda record: record['coordinates'] is not None)\n",
    "        tweets_df = tweets_df.map(flatten).to_dataframe().compute()\n",
    "        print(f\"saving ../data/{name}.pkl\")\n",
    "        tweets_df.drop_duplicates(subset=['id']).to_pickle(f\"../data/{name}.pkl\")\n",
    "    else:\n",
    "        tweets_df = pd.read_pickle(f\"../data/{name}.pkl\").drop_duplicates(subset=['id'])\n",
    "    return tweets_df\n",
    "\n",
    "\n",
    "all_tweets_df = process_raw_data(\"../data/big_data/sandy_data/\", 'big')\n",
    "all_tweets_df.head()"
   ]
  },
  {
   "cell_type": "code",
   "execution_count": 3,
   "metadata": {},
   "outputs": [
    {
     "name": "stdout",
     "output_type": "stream",
     "text": [
      "<class 'pandas.core.frame.DataFrame'>\n",
      "Int64Index: 79681 entries, 0 to 551\n",
      "Data columns (total 5 columns):\n",
      " #   Column      Non-Null Count  Dtype  \n",
      "---  ------      --------------  -----  \n",
      " 0   full_text   79681 non-null  object \n",
      " 1   created_at  79681 non-null  object \n",
      " 2   id          79681 non-null  int64  \n",
      " 3   lon         79681 non-null  float64\n",
      " 4   lat         79681 non-null  float64\n",
      "dtypes: float64(2), int64(1), object(2)\n",
      "memory usage: 3.6+ MB\n"
     ]
    }
   ],
   "source": [
    "def preprocess(text):\n",
    "    import preprocessor as p\n",
    "    import html\n",
    "    from multiprocessing.dummy import Pool as ThreadPool    \n",
    "    p.set_options(p.OPT.ESCAPE_CHAR, p.OPT.URL)\n",
    "    pool = ThreadPool()\n",
    "    results = pool.map(lambda d : p.clean(html.unescape(d)), text)\n",
    "    pool.close()\n",
    "    pool.join()\n",
    "    return results\n",
    "\n",
    "all_tweets_df = all_tweets_df[all_tweets_df['full_text'].str.len() != 0]\n",
    "all_tweets_df['full_text'] = preprocess(list(all_tweets_df['full_text'].values))\n",
    "all_tweets_df.info()"
   ]
  },
  {
   "cell_type": "code",
   "execution_count": 4,
   "metadata": {},
   "outputs": [
    {
     "data": {
      "text/plain": [
       "array(['Listen to Rush doing an impression of our President over the Hurricane! Disgusting! Someone please shut him up in a rubber room! Ugh',\n",
       "       'She is really starting to get angry... #Sandy',\n",
       "       'Thanks Sandy for flooding my beach house and boat shop. But thanks for not ruining my speed boats at least.#fuckyousandy',\n",
       "       'Evac affects 375k New Yorkers. #sandy',\n",
       "       'Sandy, DO NOT DESTROY THE SHORE HOUSE'], dtype=object)"
      ]
     },
     "execution_count": 4,
     "metadata": {},
     "output_type": "execute_result"
    }
   ],
   "source": [
    "all_tweets_df['full_text'].sample(5).values"
   ]
  },
  {
   "cell_type": "code",
   "execution_count": 5,
   "metadata": {},
   "outputs": [
    {
     "name": "stdout",
     "output_type": "stream",
     "text": [
      "Loading formatted geocoded file...\n"
     ]
    },
    {
     "data": {
      "text/html": [
       "<div>\n",
       "<style scoped>\n",
       "    .dataframe tbody tr th:only-of-type {\n",
       "        vertical-align: middle;\n",
       "    }\n",
       "\n",
       "    .dataframe tbody tr th {\n",
       "        vertical-align: top;\n",
       "    }\n",
       "\n",
       "    .dataframe thead th {\n",
       "        text-align: right;\n",
       "    }\n",
       "</style>\n",
       "<table border=\"1\" class=\"dataframe\">\n",
       "  <thead>\n",
       "    <tr style=\"text-align: right;\">\n",
       "      <th></th>\n",
       "      <th>lat</th>\n",
       "      <th>lon</th>\n",
       "      <th>name</th>\n",
       "      <th>admin1</th>\n",
       "      <th>admin2</th>\n",
       "      <th>cc</th>\n",
       "    </tr>\n",
       "  </thead>\n",
       "  <tbody>\n",
       "    <tr>\n",
       "      <th>0</th>\n",
       "      <td>26.81756</td>\n",
       "      <td>-80.08199</td>\n",
       "      <td>North Palm Beach</td>\n",
       "      <td>Florida</td>\n",
       "      <td>Palm Beach County</td>\n",
       "      <td>US</td>\n",
       "    </tr>\n",
       "    <tr>\n",
       "      <th>1</th>\n",
       "      <td>40.60121</td>\n",
       "      <td>-74.55905</td>\n",
       "      <td>Martinsville</td>\n",
       "      <td>New Jersey</td>\n",
       "      <td>Somerset County</td>\n",
       "      <td>US</td>\n",
       "    </tr>\n",
       "    <tr>\n",
       "      <th>2</th>\n",
       "      <td>25.8651</td>\n",
       "      <td>-80.3245</td>\n",
       "      <td>Hialeah Gardens</td>\n",
       "      <td>Florida</td>\n",
       "      <td>Miami-Dade County</td>\n",
       "      <td>US</td>\n",
       "    </tr>\n",
       "    <tr>\n",
       "      <th>3</th>\n",
       "      <td>40.89399</td>\n",
       "      <td>-72.89594</td>\n",
       "      <td>Ridge</td>\n",
       "      <td>New York</td>\n",
       "      <td>Suffolk County</td>\n",
       "      <td>US</td>\n",
       "    </tr>\n",
       "    <tr>\n",
       "      <th>4</th>\n",
       "      <td>40.85316</td>\n",
       "      <td>-74.11375</td>\n",
       "      <td>Wallington</td>\n",
       "      <td>New Jersey</td>\n",
       "      <td>Bergen County</td>\n",
       "      <td>US</td>\n",
       "    </tr>\n",
       "    <tr>\n",
       "      <th>...</th>\n",
       "      <td>...</td>\n",
       "      <td>...</td>\n",
       "      <td>...</td>\n",
       "      <td>...</td>\n",
       "      <td>...</td>\n",
       "      <td>...</td>\n",
       "    </tr>\n",
       "    <tr>\n",
       "      <th>79676</th>\n",
       "      <td>40.194</td>\n",
       "      <td>-74.04875</td>\n",
       "      <td>Shark River Hills</td>\n",
       "      <td>New Jersey</td>\n",
       "      <td>Monmouth County</td>\n",
       "      <td>US</td>\n",
       "    </tr>\n",
       "    <tr>\n",
       "      <th>79677</th>\n",
       "      <td>10.48801</td>\n",
       "      <td>-66.87919</td>\n",
       "      <td>Caracas</td>\n",
       "      <td>Capital</td>\n",
       "      <td>Municipio Libertador</td>\n",
       "      <td>VE</td>\n",
       "    </tr>\n",
       "    <tr>\n",
       "      <th>79678</th>\n",
       "      <td>36.23708</td>\n",
       "      <td>-79.97948</td>\n",
       "      <td>Stokesdale</td>\n",
       "      <td>North Carolina</td>\n",
       "      <td>Guilford County</td>\n",
       "      <td>US</td>\n",
       "    </tr>\n",
       "    <tr>\n",
       "      <th>79679</th>\n",
       "      <td>6.13328</td>\n",
       "      <td>102.2386</td>\n",
       "      <td>Kota Bharu</td>\n",
       "      <td>Kelantan</td>\n",
       "      <td></td>\n",
       "      <td>MY</td>\n",
       "    </tr>\n",
       "    <tr>\n",
       "      <th>79680</th>\n",
       "      <td>-33.79835</td>\n",
       "      <td>151.09051</td>\n",
       "      <td>Denistone</td>\n",
       "      <td>New South Wales</td>\n",
       "      <td>Ryde</td>\n",
       "      <td>AU</td>\n",
       "    </tr>\n",
       "  </tbody>\n",
       "</table>\n",
       "<p>79681 rows × 6 columns</p>\n",
       "</div>"
      ],
      "text/plain": [
       "             lat        lon               name           admin1  \\\n",
       "0       26.81756  -80.08199   North Palm Beach          Florida   \n",
       "1       40.60121  -74.55905       Martinsville       New Jersey   \n",
       "2        25.8651   -80.3245    Hialeah Gardens          Florida   \n",
       "3       40.89399  -72.89594              Ridge         New York   \n",
       "4       40.85316  -74.11375         Wallington       New Jersey   \n",
       "...          ...        ...                ...              ...   \n",
       "79676     40.194  -74.04875  Shark River Hills       New Jersey   \n",
       "79677   10.48801  -66.87919            Caracas          Capital   \n",
       "79678   36.23708  -79.97948         Stokesdale   North Carolina   \n",
       "79679    6.13328   102.2386         Kota Bharu         Kelantan   \n",
       "79680  -33.79835  151.09051          Denistone  New South Wales   \n",
       "\n",
       "                     admin2  cc  \n",
       "0         Palm Beach County  US  \n",
       "1           Somerset County  US  \n",
       "2         Miami-Dade County  US  \n",
       "3            Suffolk County  US  \n",
       "4             Bergen County  US  \n",
       "...                     ...  ..  \n",
       "79676       Monmouth County  US  \n",
       "79677  Municipio Libertador  VE  \n",
       "79678       Guilford County  US  \n",
       "79679                        MY  \n",
       "79680                  Ryde  AU  \n",
       "\n",
       "[79681 rows x 6 columns]"
      ]
     },
     "execution_count": 5,
     "metadata": {},
     "output_type": "execute_result"
    }
   ],
   "source": [
    "def get_inexact_location(latlong):\n",
    "    import reverse_geocoder as rg\n",
    "    results = rg.search(latlong)\n",
    "    return pd.DataFrame(results)\n",
    "locs = get_inexact_location(list(zip(all_tweets_df['lat'], all_tweets_df['lon'])))\n",
    "locs"
   ]
  },
  {
   "cell_type": "code",
   "execution_count": 7,
   "metadata": {},
   "outputs": [
    {
     "name": "stdout",
     "output_type": "stream",
     "text": [
      "(79681, 17) (79681, 17)\n"
     ]
    }
   ],
   "source": [
    "all_tweets_df = all_tweets_df.merge(locs, left_index=True, right_index=True).reset_index(drop=True)\n",
    "print(all_tweets_df.drop_duplicates('id').shape, all_tweets_df.shape)\n",
    "all_tweets_df.drop_duplicates('id').to_pickle(\"../data/cleaned.pkl\", protocol=4)"
   ]
  },
  {
   "cell_type": "code",
   "execution_count": null,
   "metadata": {},
   "outputs": [],
   "source": [
    "# ssh onto linux.ews.illinois.edu\n",
    "# big_proc.ipynb"
   ]
  },
  {
   "cell_type": "markdown",
   "metadata": {},
   "source": [
    "## Process Hurricane Path"
   ]
  },
  {
   "cell_type": "code",
   "execution_count": 22,
   "metadata": {},
   "outputs": [],
   "source": [
    "# fn  = '../data/track.dat'\n",
    "# rec = {'lat':[],'lon':[],'wind':[],'press':[],'dt':[],'cat':[]}\n",
    "# for i,line in enumerate(open(fn)):\n",
    "#     if i == 0: continue  # Jump over the first line\n",
    "#     # replace multiple whitespaces with a single whitespace\n",
    "#     line   = re.sub(r\"\\s+\", ' ', line)\n",
    "#     pieces = line.split(\" \")\n",
    "#     # retrieve information\n",
    "#     rec['lat'].append(float(pieces[0]))\n",
    "#     rec['lon'].append(float(pieces[1]))\n",
    "#     rec['wind'].append(float(pieces[3]))\n",
    "#     rec['press'].append(float(pieces[4]))\n",
    "#     rec['cat'].append((\" \".join(pieces[5:])).strip())\n",
    "#     time   = pieces[2]\n",
    "#     time   = \"2012/\" + time\n",
    "#     rec['dt'].append(datetime.strptime(time,\"%Y/%m/%d/%HZ\"))\n",
    "    \n",
    "    \n",
    "# track = pd.DataFrame.from_dict(rec)\n",
    "\n",
    "# track.to_pickle(\"../data/track.pkl\", protocol=4)"
   ]
  },
  {
   "cell_type": "code",
   "execution_count": 23,
   "metadata": {},
   "outputs": [],
   "source": [
    "track = pd.read_csv(\"../data/track.csv\")\n",
    "\n",
    "track['TIME_'] = pd.to_datetime(track['TIME_'], format='%Y%m%d%H%M%S')\n",
    "\n",
    "track.to_pickle(\"../data/track.pkl\", protocol=4)"
   ]
  },
  {
   "cell_type": "code",
   "execution_count": null,
   "metadata": {},
   "outputs": [],
   "source": []
  }
 ],
 "metadata": {
  "kernelspec": {
   "display_name": "Python 3",
   "language": "python",
   "name": "python3"
  },
  "language_info": {
   "codemirror_mode": {
    "name": "ipython",
    "version": 3
   },
   "file_extension": ".py",
   "mimetype": "text/x-python",
   "name": "python",
   "nbconvert_exporter": "python",
   "pygments_lexer": "ipython3",
   "version": "3.7.6"
  }
 },
 "nbformat": 4,
 "nbformat_minor": 4
}
