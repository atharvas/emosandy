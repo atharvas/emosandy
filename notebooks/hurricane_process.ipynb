{
 "metadata": {
  "language_info": {
   "codemirror_mode": {
    "name": "ipython",
    "version": 3
   },
   "file_extension": ".py",
   "mimetype": "text/x-python",
   "name": "python",
   "nbconvert_exporter": "python",
   "pygments_lexer": "ipython3",
   "version": "3.6.12-final"
  },
  "orig_nbformat": 2,
  "kernelspec": {
   "name": "python3",
   "display_name": "Python 3",
   "language": "python"
  }
 },
 "nbformat": 4,
 "nbformat_minor": 2,
 "cells": [
  {
   "cell_type": "code",
   "execution_count": 1,
   "metadata": {},
   "outputs": [],
   "source": [
    "import pandas as pd\n",
    "tracks = {\n",
    "    'sandy' : '2012',\n",
    "    'harvey' : ' 2017'\n",
    "}"
   ]
  },
  {
   "cell_type": "code",
   "execution_count": 2,
   "metadata": {},
   "outputs": [],
   "source": [
    "url = 'https://www.ncei.noaa.gov/data/international-best-track-archive-for-climate-stewardship-ibtracs/v04r00/access/csv/ibtracs.ALL.list.v04r00.csv'\n",
    "df = pd.read_csv(url, parse_dates=['ISO_TIME'], usecols=range(12),\n",
    "                 skiprows=[1], na_values=[' ', 'NOT_NAMED'],\n",
    "                 keep_default_na=False, dtype={'NAME': str})\n"
   ]
  },
  {
   "cell_type": "code",
   "execution_count": 3,
   "metadata": {},
   "outputs": [],
   "source": [
    "for name, year in tracks.items():\n",
    "    tr = df.query(f'SEASON >= {year} & NAME == \"{name.upper()}\" & BASIN == \"NA\"').interpolate().rename(columns={\n",
    "        'ISO_TIME' : \"TIME_\",\n",
    "        'WMO_WIND' : 'INTENSITY'})\n",
    "    tr.to_pickle(f\"../data/pickles/{name}/track.pkl\", protocol=4)"
   ]
  },
  {
   "cell_type": "code",
   "execution_count": 13,
   "metadata": {},
   "outputs": [
    {
     "output_type": "execute_result",
     "data": {
      "text/plain": [
       "675139   2017-08-16 06:00:00+00:00\n",
       "675140   2017-08-16 09:00:00+00:00\n",
       "675141   2017-08-16 12:00:00+00:00\n",
       "675142   2017-08-16 15:00:00+00:00\n",
       "675143   2017-08-16 18:00:00+00:00\n",
       "                    ...           \n",
       "675275   2017-09-02 00:00:00+00:00\n",
       "675276   2017-09-02 03:00:00+00:00\n",
       "675277   2017-09-02 06:00:00+00:00\n",
       "675278   2017-09-02 09:00:00+00:00\n",
       "675279   2017-09-02 12:00:00+00:00\n",
       "Name: TIME_, Length: 141, dtype: datetime64[ns, UTC]"
      ]
     },
     "metadata": {},
     "execution_count": 13
    }
   ],
   "source": [
    "pd.to_datetime(tr['TIME_']).dt.tz_localize('UTC')"
   ]
  },
  {
   "cell_type": "code",
   "execution_count": null,
   "metadata": {},
   "outputs": [],
   "source": []
  }
 ]
}