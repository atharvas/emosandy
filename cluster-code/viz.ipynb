{
 "cells": [
  {
   "cell_type": "code",
   "execution_count": 64,
   "metadata": {
    "tags": []
   },
   "outputs": [
    {
     "output_type": "stream",
     "name": "stdout",
     "text": [
      "Collecting emoji\n",
      "  Downloading emoji-0.6.0.tar.gz (51 kB)\n",
      "\u001b[K     |████████████████████████████████| 51 kB 1.5 MB/s \n",
      "\u001b[?25hBuilding wheels for collected packages: emoji\n",
      "  Building wheel for emoji (setup.py) ... \u001b[?25ldone\n",
      "\u001b[?25h  Created wheel for emoji: filename=emoji-0.6.0-py3-none-any.whl size=49714 sha256=98d8ba74052304003a9b726592062b43ad247ac2a909fb5ab20d3f59ad549db3\n",
      "  Stored in directory: /home/atharvas/.cache/pip/wheels/43/3d/82/e7baffa5e86346c6178d7750dba6e8ef063282a37fc563f8f8\n",
      "Successfully built emoji\n",
      "Installing collected packages: emoji\n",
      "Successfully installed emoji-0.6.0\n"
     ]
    }
   ],
   "source": [
    "# !pip3 install plotly numpy pandas retrying urllib3 matplotlib bokeh --user\n",
    "import numpy as np\n",
    "import pandas as pd\n",
    "# import plotly\n",
    "import json\n",
    "token = \"pk.eyJ1IjoiYXRoYXJ2YXMiLCJhIjoiY2tnZ3Q2dGV4MHpreDJzdDl2Ync4ODJvZyJ9.jFeZV_Mn0i5qufHmTmYYfQ\"\n",
    "\n",
    "from datetime import datetime\n",
    "import re\n",
    "\n",
    "# !pip install html5lib\n",
    "!pip install emoji\n",
    "import emoji\n",
    "# !pip install bs4\n",
    "\n",
    "import emoji\n",
    "# !pip install bs4\n"
   ]
  },
  {
   "cell_type": "code",
   "execution_count": 80,
   "metadata": {},
   "outputs": [
    {
     "output_type": "execute_result",
     "data": {
      "text/plain": [
       "    Char Image[twemoji] Unicodecodepoint  Occurrences[5...max]  \\\n",
       "0      😂              😂          0x1f602                 14622   \n",
       "1      ❤              ❤           0x2764                  8050   \n",
       "2      ♥              ♥           0x2665                  7144   \n",
       "3      😍              😍          0x1f60d                  6359   \n",
       "4      😭              😭          0x1f62d                  5526   \n",
       "..   ...            ...              ...                   ...   \n",
       "746    ♮              ♮           0x266e                     5   \n",
       "747    🅾              🅾          0x1f17e                     5   \n",
       "748    🔄              🔄          0x1f504                     5   \n",
       "749    ☄              ☄           0x2604                     5   \n",
       "750    ☨              ☨           0x2628                     5   \n",
       "\n",
       "     Position[0...1]  Neg[0...1]  Neut[0...1]  Pos[0...1]  \\\n",
       "0              0.805       0.247        0.285       0.468   \n",
       "1              0.747       0.044        0.166       0.790   \n",
       "2              0.754       0.035        0.272       0.693   \n",
       "3              0.765       0.052        0.219       0.729   \n",
       "4              0.803       0.436        0.220       0.343   \n",
       "..               ...         ...          ...         ...   \n",
       "746            0.937       0.125        0.625       0.250   \n",
       "747            0.977       0.375        0.375       0.250   \n",
       "748            0.971       0.125        0.750       0.125   \n",
       "749            0.435       0.125        0.750       0.125   \n",
       "750            0.458       0.125        0.750       0.125   \n",
       "\n",
       "     Sentiment score[-1...+1]  Sentiment bar(c.i. 95%)  \\\n",
       "0                       0.221                      NaN   \n",
       "1                       0.746                      NaN   \n",
       "2                       0.657                      NaN   \n",
       "3                       0.678                      NaN   \n",
       "4                      -0.093                      NaN   \n",
       "..                        ...                      ...   \n",
       "746                     0.125                      NaN   \n",
       "747                    -0.125                      NaN   \n",
       "748                     0.000                      NaN   \n",
       "749                     0.000                      NaN   \n",
       "750                     0.000                      NaN   \n",
       "\n",
       "                                          Unicode name  \\\n",
       "0                               face_with_tears_of_joy   \n",
       "1                                    heavy_black_heart   \n",
       "2                                     black_heart_suit   \n",
       "3                  smiling_face_with_heart-shaped_eyes   \n",
       "4                                   loudly_crying_face   \n",
       "..                                                 ...   \n",
       "746                                 music_natural_sign   \n",
       "747            negative_squared_latin_capital_letter_o   \n",
       "748  anticlockwise_downwards_and_upwards_open_circl...   \n",
       "749                                              comet   \n",
       "750                                  cross_of_lorraine   \n",
       "\n",
       "                             Unicode block                              Name  \n",
       "0                                Emoticons          :face_with_tears_of_joy:  \n",
       "1                                 Dingbats                       :red_heart:  \n",
       "2                    Miscellaneous Symbols                      :heart_suit:  \n",
       "3                                Emoticons    :smiling_face_with_heart-eyes:  \n",
       "4                                Emoticons              :loudly_crying_face:  \n",
       "..                                     ...                               ...  \n",
       "746                  Miscellaneous Symbols                                 ♮  \n",
       "747       Enclosed Alphanumeric Supplement           :o_button_(blood_type):  \n",
       "748  Miscellaneous Symbols and Pictographs  :counterclockwise_arrows_button:  \n",
       "749                  Miscellaneous Symbols                           :comet:  \n",
       "750                  Miscellaneous Symbols                                 ☨  \n",
       "\n",
       "[751 rows x 13 columns]"
      ],
      "text/html": "<div>\n<style scoped>\n    .dataframe tbody tr th:only-of-type {\n        vertical-align: middle;\n    }\n\n    .dataframe tbody tr th {\n        vertical-align: top;\n    }\n\n    .dataframe thead th {\n        text-align: right;\n    }\n</style>\n<table border=\"1\" class=\"dataframe\">\n  <thead>\n    <tr style=\"text-align: right;\">\n      <th></th>\n      <th>Char</th>\n      <th>Image[twemoji]</th>\n      <th>Unicodecodepoint</th>\n      <th>Occurrences[5...max]</th>\n      <th>Position[0...1]</th>\n      <th>Neg[0...1]</th>\n      <th>Neut[0...1]</th>\n      <th>Pos[0...1]</th>\n      <th>Sentiment score[-1...+1]</th>\n      <th>Sentiment bar(c.i. 95%)</th>\n      <th>Unicode name</th>\n      <th>Unicode block</th>\n      <th>Name</th>\n    </tr>\n  </thead>\n  <tbody>\n    <tr>\n      <th>0</th>\n      <td>😂</td>\n      <td>😂</td>\n      <td>0x1f602</td>\n      <td>14622</td>\n      <td>0.805</td>\n      <td>0.247</td>\n      <td>0.285</td>\n      <td>0.468</td>\n      <td>0.221</td>\n      <td>NaN</td>\n      <td>face_with_tears_of_joy</td>\n      <td>Emoticons</td>\n      <td>:face_with_tears_of_joy:</td>\n    </tr>\n    <tr>\n      <th>1</th>\n      <td>❤</td>\n      <td>❤</td>\n      <td>0x2764</td>\n      <td>8050</td>\n      <td>0.747</td>\n      <td>0.044</td>\n      <td>0.166</td>\n      <td>0.790</td>\n      <td>0.746</td>\n      <td>NaN</td>\n      <td>heavy_black_heart</td>\n      <td>Dingbats</td>\n      <td>:red_heart:</td>\n    </tr>\n    <tr>\n      <th>2</th>\n      <td>♥</td>\n      <td>♥</td>\n      <td>0x2665</td>\n      <td>7144</td>\n      <td>0.754</td>\n      <td>0.035</td>\n      <td>0.272</td>\n      <td>0.693</td>\n      <td>0.657</td>\n      <td>NaN</td>\n      <td>black_heart_suit</td>\n      <td>Miscellaneous Symbols</td>\n      <td>:heart_suit:</td>\n    </tr>\n    <tr>\n      <th>3</th>\n      <td>😍</td>\n      <td>😍</td>\n      <td>0x1f60d</td>\n      <td>6359</td>\n      <td>0.765</td>\n      <td>0.052</td>\n      <td>0.219</td>\n      <td>0.729</td>\n      <td>0.678</td>\n      <td>NaN</td>\n      <td>smiling_face_with_heart-shaped_eyes</td>\n      <td>Emoticons</td>\n      <td>:smiling_face_with_heart-eyes:</td>\n    </tr>\n    <tr>\n      <th>4</th>\n      <td>😭</td>\n      <td>😭</td>\n      <td>0x1f62d</td>\n      <td>5526</td>\n      <td>0.803</td>\n      <td>0.436</td>\n      <td>0.220</td>\n      <td>0.343</td>\n      <td>-0.093</td>\n      <td>NaN</td>\n      <td>loudly_crying_face</td>\n      <td>Emoticons</td>\n      <td>:loudly_crying_face:</td>\n    </tr>\n    <tr>\n      <th>...</th>\n      <td>...</td>\n      <td>...</td>\n      <td>...</td>\n      <td>...</td>\n      <td>...</td>\n      <td>...</td>\n      <td>...</td>\n      <td>...</td>\n      <td>...</td>\n      <td>...</td>\n      <td>...</td>\n      <td>...</td>\n      <td>...</td>\n    </tr>\n    <tr>\n      <th>746</th>\n      <td>♮</td>\n      <td>♮</td>\n      <td>0x266e</td>\n      <td>5</td>\n      <td>0.937</td>\n      <td>0.125</td>\n      <td>0.625</td>\n      <td>0.250</td>\n      <td>0.125</td>\n      <td>NaN</td>\n      <td>music_natural_sign</td>\n      <td>Miscellaneous Symbols</td>\n      <td>♮</td>\n    </tr>\n    <tr>\n      <th>747</th>\n      <td>🅾</td>\n      <td>🅾</td>\n      <td>0x1f17e</td>\n      <td>5</td>\n      <td>0.977</td>\n      <td>0.375</td>\n      <td>0.375</td>\n      <td>0.250</td>\n      <td>-0.125</td>\n      <td>NaN</td>\n      <td>negative_squared_latin_capital_letter_o</td>\n      <td>Enclosed Alphanumeric Supplement</td>\n      <td>:o_button_(blood_type):</td>\n    </tr>\n    <tr>\n      <th>748</th>\n      <td>🔄</td>\n      <td>🔄</td>\n      <td>0x1f504</td>\n      <td>5</td>\n      <td>0.971</td>\n      <td>0.125</td>\n      <td>0.750</td>\n      <td>0.125</td>\n      <td>0.000</td>\n      <td>NaN</td>\n      <td>anticlockwise_downwards_and_upwards_open_circl...</td>\n      <td>Miscellaneous Symbols and Pictographs</td>\n      <td>:counterclockwise_arrows_button:</td>\n    </tr>\n    <tr>\n      <th>749</th>\n      <td>☄</td>\n      <td>☄</td>\n      <td>0x2604</td>\n      <td>5</td>\n      <td>0.435</td>\n      <td>0.125</td>\n      <td>0.750</td>\n      <td>0.125</td>\n      <td>0.000</td>\n      <td>NaN</td>\n      <td>comet</td>\n      <td>Miscellaneous Symbols</td>\n      <td>:comet:</td>\n    </tr>\n    <tr>\n      <th>750</th>\n      <td>☨</td>\n      <td>☨</td>\n      <td>0x2628</td>\n      <td>5</td>\n      <td>0.458</td>\n      <td>0.125</td>\n      <td>0.750</td>\n      <td>0.125</td>\n      <td>0.000</td>\n      <td>NaN</td>\n      <td>cross_of_lorraine</td>\n      <td>Miscellaneous Symbols</td>\n      <td>☨</td>\n    </tr>\n  </tbody>\n</table>\n<p>751 rows × 13 columns</p>\n</div>"
     },
     "metadata": {},
     "execution_count": 80
    }
   ],
   "source": [
    "emojiDF"
   ]
  },
  {
   "cell_type": "code",
   "execution_count": 199,
   "metadata": {},
   "outputs": [],
   "source": [
    "# emojiDF = pd.read_html(\"http://kt.ijs.si/data/Emoji_sentiment_ranking/index.html\")[0]\n",
    "# emojiDF['Unicode name'] = emojiDF['Unicode name'].str.lower().str.replace(\" \", \"_\")\n",
    "\n",
    "emojiDF['Name']=  emojiDF['Char'].apply(emoji.demojize).str.lower()\n",
    "emoji_to_sent = emojiDF[['Sentiment score[-1...+1]', 'Unicode name']].set_index('Unicode name').to_dict('i')\n",
    "\n",
    "# lambda x : emoji_to_sent[x]['Sentiment score[-1...+1]']\n",
    "\n",
    "emoji_to_sent['hearts'] = emoji_to_sent[('SMILING_FACE_WITH_HEART-SHAPED_EYES').lower()]\n",
    "emoji_to_sent['heart'] = emoji_to_sent[('SMILING_FACE_WITH_HEART-SHAPED_EYES').lower()]\n",
    "\n",
    "emoji_to_sent['expressionless'] = emoji_to_sent[('EXPRESSIONLESS_FACE').lower()]\n",
    "\n",
    "\n",
    "emoji_to_sent['pray'] = emoji_to_sent[('PERSON_WITH_FOLDED_HANDS').lower()]\n",
    "\n",
    "emoji_to_sent['mask'] = emoji_to_sent[('FACE_WITH_MEDICAL_MASK').lower()]\n",
    "\n",
    "emoji_to_sent['rage'] = emoji_to_sent[('ANGRY_FACE').lower()]\n",
    "emoji_to_sent['cry'] = emoji_to_sent[('CRYING_FACE').lower()]\n",
    "emoji_to_sent['sweat'] = emoji_to_sent[('FACE WITH COLD SWEAT').lower().replace(\" \", \"_\")]\n",
    "emoji_to_sent['flushed'] = emoji_to_sent[('FLUSHED FACE').lower().replace(\" \", \"_\")]\n",
    "\n",
    "emoji_to_sent['angry'] = emoji_to_sent[('ANGRY FACE').lower().replace(\" \", \"_\")]\n",
    "emoji_to_sent['notes'] = emoji_to_sent[('MULTIPLE MUSICAL NOTES').lower().replace(\" \", \"_\")]\n",
    "emoji_to_sent['thumbsup'] = emoji_to_sent[('THUMBS UP SIGN').lower().replace(\" \", \"_\")]\n",
    "emoji_to_sent['clap'] = emoji_to_sent[('CLAPPING HANDS SIGN').lower().replace(\" \", \"_\")]\n",
    "emoji_to_sent['wink'] = emoji_to_sent[('WINKING FACE').lower().replace(\" \", \"_\")]\n",
    "emoji_to_sent['gun'] = emoji_to_sent[('PISTOL').lower().replace(\" \", \"_\")]\n",
    "emoji_to_sent['confounded'] = emoji_to_sent[('CONFOUNDED FACE').lower().replace(\" \", \"_\")]\n",
    "emoji_to_sent['pensive'] = emoji_to_sent[('PENSIVE FACE').lower().replace(\" \", \"_\")]\n",
    "emoji_to_sent['smile'] = emoji_to_sent[('SMILING FACE WITH OPEN MOUTH AND SMILING EYES').lower().replace(\" \", \"_\")]\n",
    "emoji_to_sent['sleeping'] = emoji_to_sent[('SLEEPING FACE').lower().replace(\" \", \"_\")]\n",
    "emoji_to_sent['joy'] = emoji_to_sent[('FACE WITH TEARS OF JOY').lower().replace(\" \", \"_\")]\n",
    "emoji_to_sent['v'] = emoji_to_sent[('VICTORY HAND').lower().replace(\" \", \"_\")]\n",
    "emoji_to_sent['confused'] = emoji_to_sent[('CONFUSED FACE').lower().replace(\" \", \"_\")]\n",
    "emoji_to_sent['kissing_heart'] = emoji_to_sent[('FACE THROWING A KISS').lower().replace(\" \", \"_\")]\n",
    "emoji_to_sent['muscle'] = emoji_to_sent[('FLEXED BICEPS').lower().replace(\" \", \"_\")]\n",
    "emoji_to_sent['sweat_smile'] = emoji_to_sent[('SMILING FACE WITH OPEN MOUTH AND COLD SWEAT').lower().replace(\" \", \"_\")]\n",
    "emoji_to_sent['no_good'] = emoji_to_sent[('FACE WITH NO GOOD GESTURE').lower().replace(\" \", \"_\")]\n",
    "emoji_to_sent['relaxed'] = emoji_to_sent[('RELIEVED FACE').lower().replace(\" \", \"_\")]\n",
    "emoji_to_sent['headphones'] = emoji_to_sent[('HEADPHONE').lower().replace(\" \", \"_\")]\n",
    "emoji_to_sent['ok_hand'] = emoji_to_sent[('OK HAND SIGN').lower().replace(\" \", \"_\")]\n",
    "emoji_to_sent['see_no_evil'] = emoji_to_sent[('SEE-NO-EVIL MONKEY').lower().replace(\" \", \"_\")]\n",
    "emoji_to_sent['sunglasses'] = emoji_to_sent[('SMILING FACE WITH SUNGLASSES').lower().replace(\" \", \"_\")]\n",
    "emoji_to_sent['stuck_out_tongue_winking_eye'] = emoji_to_sent[('FACE WITH STUCK-OUT TONGUE AND WINKING EYE').lower().replace(\" \", \"_\")]\n",
    "emoji_to_sent['raised_hands'] = emoji_to_sent[('RAISED HAND').lower().replace(\" \", \"_\")]\n",
    "emoji_to_sent['disappointed'] = emoji_to_sent[('DISAPPOINTED FACE').lower().replace(\" \", \"_\")]\n",
    "emoji_to_sent['unamused'] = emoji_to_sent[('UNAMUSED FACE').lower().replace(\" \", \"_\")]\n",
    "emoji_to_sent['blush'] = emoji_to_sent[('WHITE SMILING FACE').lower().replace(\" \", \"_\")]\n",
    "emoji_to_sent['punch'] = emoji_to_sent[('FISTED HAND SIGN').lower().replace(\" \", \"_\")]\n",
    "emoji_to_sent['heart_eyes'] = emoji_to_sent[('SMILING FACE WITH HEART-SHAPED EYES').lower().replace(\" \", \"_\")]\n",
    "emoji_to_sent['smirk'] = emoji_to_sent[('SMIRKING FACE').lower().replace(\" \", \"_\")]\n",
    "emoji_to_sent['100'] = emoji_to_sent[('HUNDRED POINTS SYMBOL').lower().replace(\" \", \"_\")]\n",
    "emoji_to_sent['grimacing'] = emoji_to_sent[('GRIMACING FACE').lower().replace(\" \", \"_\")]\n",
    "emoji_to_sent['grin'] = emoji_to_sent[('GRINNING FACE WITH SMILING EYES').lower().replace(\" \", \"_\")]\n",
    "emoji_to_sent['speak_no_evil'] = emoji_to_sent[('SPEAK-NO-EVIL MONKEY').lower().replace(\" \", \"_\")]\n",
    "emoji_to_sent['triumph'] = emoji_to_sent[('FACE WITH LOOK OF TRIUMPH').lower().replace(\" \", \"_\")]\n",
    "emoji_to_sent['persevere'] = emoji_to_sent[('PERSEVERING FACE').lower().replace(\" \", \"_\")]\n",
    "emoji_to_sent['sob'] = emoji_to_sent[('LOUDLY CRYING FACE').lower().replace(\" \", \"_\")]\n",
    "emoji_to_sent['sleepy'] = emoji_to_sent[('SLEEPING FACE').lower().replace(\" \", \"_\")]\n",
    "emoji_to_sent['weary'] = emoji_to_sent[('WEARY FACE').lower().replace(\" \", \"_\")]\n",
    "emoji_to_sent['relieved'] = emoji_to_sent[('relieved FACE').lower().replace(\" \", \"_\")]\n",
    "\n",
    "\n",
    "\n",
    "\n",
    "\n"
   ]
  },
  {
   "cell_type": "code",
   "execution_count": 204,
   "metadata": {
    "tags": []
   },
   "outputs": [],
   "source": [
    "procmoji = pd.read_csv(\"bigmoji.csv\", lineterminator=\"\\n\")\n",
    "with open(\"./torchMoji/data/emoji_codes.json\", 'r') as s:\n",
    "    num2emoji = json.load(s)\n",
    "\n",
    "\n",
    "for col in ['Emoji_1','Emoji_2','Emoji_3','Emoji_4','Emoji_5']:\n",
    "    procmoji[col] = procmoji[col].astype(int).astype(str).map(num2emoji).str.replace(\":\", \"\").apply(lambda x : emoji_to_sent[x]['Sentiment score[-1...+1]'])\n",
    "procmoji['Sentiment'] = procmoji[['Emoji_1','Emoji_2','Emoji_3','Emoji_4','Emoji_5']].mean(axis=1)\n",
    "\n",
    "\n",
    "\n"
   ]
  },
  {
   "cell_type": "code",
   "execution_count": 2,
   "metadata": {},
   "outputs": [
    {
     "output_type": "execute_result",
     "data": {
      "text/plain": "                                           full_text  \\\n0  So there's going to be a hurricane tonight and...   \n1  They named the hurricane that will be coming u...   \n\n                       created_at                  id       long        lat  \\\n0  Thu Oct 25 19:18:02 +0000 2012  261547183722082300 -80.062265  26.844194   \n1  Thu Oct 25 19:18:42 +0000 2012  261547349921370100 -74.549170  40.618274   \n\n            created_at_date  polarity  \n0 2012-10-25 19:18:02+00:00      -0.2  \n1 2012-10-25 19:18:42+00:00      -0.5  ",
      "text/html": "<div>\n<style scoped>\n    .dataframe tbody tr th:only-of-type {\n        vertical-align: middle;\n    }\n\n    .dataframe tbody tr th {\n        vertical-align: top;\n    }\n\n    .dataframe thead th {\n        text-align: right;\n    }\n</style>\n<table border=\"1\" class=\"dataframe\">\n  <thead>\n    <tr style=\"text-align: right;\">\n      <th></th>\n      <th>full_text</th>\n      <th>created_at</th>\n      <th>id</th>\n      <th>long</th>\n      <th>lat</th>\n      <th>created_at_date</th>\n      <th>polarity</th>\n    </tr>\n  </thead>\n  <tbody>\n    <tr>\n      <th>0</th>\n      <td>So there's going to be a hurricane tonight and...</td>\n      <td>Thu Oct 25 19:18:02 +0000 2012</td>\n      <td>261547183722082300</td>\n      <td>-80.062265</td>\n      <td>26.844194</td>\n      <td>2012-10-25 19:18:02+00:00</td>\n      <td>-0.2</td>\n    </tr>\n    <tr>\n      <th>1</th>\n      <td>They named the hurricane that will be coming u...</td>\n      <td>Thu Oct 25 19:18:42 +0000 2012</td>\n      <td>261547349921370100</td>\n      <td>-74.549170</td>\n      <td>40.618274</td>\n      <td>2012-10-25 19:18:42+00:00</td>\n      <td>-0.5</td>\n    </tr>\n  </tbody>\n</table>\n</div>"
     },
     "metadata": {},
     "execution_count": 2
    }
   ],
   "source": [
    "proc = pd.read_pickle(\"./big.pkl\")\n",
    "proc.head(2)"
   ]
  },
  {
   "cell_type": "code",
   "execution_count": 3,
   "metadata": {},
   "outputs": [
    {
     "output_type": "execute_result",
     "data": {
      "text/plain": "    lat   lon  wind   press                  dt                  cat\n0  13.5 -78.0  25.0  1003.0 2012-10-22 15:00:00  TROPICAL DEPRESSION\n1  13.5 -78.5  25.0  1003.0 2012-10-22 18:00:00  TROPICAL DEPRESSION",
      "text/html": "<div>\n<style scoped>\n    .dataframe tbody tr th:only-of-type {\n        vertical-align: middle;\n    }\n\n    .dataframe tbody tr th {\n        vertical-align: top;\n    }\n\n    .dataframe thead th {\n        text-align: right;\n    }\n</style>\n<table border=\"1\" class=\"dataframe\">\n  <thead>\n    <tr style=\"text-align: right;\">\n      <th></th>\n      <th>lat</th>\n      <th>lon</th>\n      <th>wind</th>\n      <th>press</th>\n      <th>dt</th>\n      <th>cat</th>\n    </tr>\n  </thead>\n  <tbody>\n    <tr>\n      <th>0</th>\n      <td>13.5</td>\n      <td>-78.0</td>\n      <td>25.0</td>\n      <td>1003.0</td>\n      <td>2012-10-22 15:00:00</td>\n      <td>TROPICAL DEPRESSION</td>\n    </tr>\n    <tr>\n      <th>1</th>\n      <td>13.5</td>\n      <td>-78.5</td>\n      <td>25.0</td>\n      <td>1003.0</td>\n      <td>2012-10-22 18:00:00</td>\n      <td>TROPICAL DEPRESSION</td>\n    </tr>\n  </tbody>\n</table>\n</div>"
     },
     "metadata": {},
     "execution_count": 3
    }
   ],
   "source": [
    "color_dict = {'TROPICAL DEPRESSION':'#AEF100', 'TROPICAL STORM':'#FFD600', 'HURRICANE-1':'#FF6440', 'HURRICANE-2':'#8506A9'}\n",
    "import re\n",
    "# Read data file, unzip from track.zip to get track.dat\n",
    "fn  = 'track.dat'\n",
    "rec = {'lat':[],'lon':[],'wind':[],'press':[],'dt':[],'cat':[]}\n",
    "for i,line in enumerate(open(fn)):\n",
    "    if i == 0: continue  # Jump over the first line\n",
    "    # replace multiple whitespaces with a single whitespace\n",
    "    line   = re.sub(r\"\\s+\", ' ', line)\n",
    "    pieces = line.split(\" \")\n",
    "    # retrieve information\n",
    "    rec['lat'].append(float(pieces[0]))\n",
    "    rec['lon'].append(float(pieces[1]))\n",
    "    rec['wind'].append(float(pieces[3]))\n",
    "    rec['press'].append(float(pieces[4]))\n",
    "    rec['cat'].append((\" \".join(pieces[5:])).strip())\n",
    "    time   = pieces[2]\n",
    "    time   = \"2012/\" + time\n",
    "    rec['dt'].append(datetime.strptime(time,\"%Y/%m/%d/%HZ\"))\n",
    "    \n",
    "    \n",
    "track = pd.DataFrame.from_dict(rec)\n",
    "\n",
    "track.head(2)"
   ]
  },
  {
   "cell_type": "code",
   "execution_count": 4,
   "metadata": {},
   "outputs": [],
   "source": [
    "times = pd.date_range(proc['created_at_date'].min().round(\"1H\"), proc['created_at_date'].max().round(\"1H\") + pd.DateOffset(hours=2), freq=\"2H\")\n",
    "times = [(times[i], times[i + 1]) for i in range(len(times) - 1)]\n",
    "times[0][0].strftime(\"%Y-%m-%d %H:%M\")\n",
    "process_time = lambda tup : \" (\" + tup[0].strftime(\"%Y-%m-%d %H:%M\") + \", \" + tup[1].strftime(\"%Y-%m-%d %H:%M\") + \")\"\n"
   ]
  },
  {
   "cell_type": "code",
   "execution_count": 6,
   "metadata": {},
   "outputs": [
    {
     "output_type": "error",
     "ename": "AttributeError",
     "evalue": "module 'retrying' has no attribute 'retry'",
     "traceback": [
      "\u001b[0;31m---------------------------------------------------------------------------\u001b[0m",
      "\u001b[0;31mAttributeError\u001b[0m                            Traceback (most recent call last)",
      "\u001b[0;32m<ipython-input-6-41562a6c3c3a>\u001b[0m in \u001b[0;36m<module>\u001b[0;34m\u001b[0m\n\u001b[0;32m----> 1\u001b[0;31m \u001b[0;32mimport\u001b[0m \u001b[0mplotly\u001b[0m\u001b[0;34m.\u001b[0m\u001b[0mgraph_objects\u001b[0m \u001b[0;32mas\u001b[0m \u001b[0mgo\u001b[0m\u001b[0;34m\u001b[0m\u001b[0;34m\u001b[0m\u001b[0m\n\u001b[0m\u001b[1;32m      2\u001b[0m \u001b[0;34m\u001b[0m\u001b[0m\n\u001b[1;32m      3\u001b[0m \u001b[0mmapbox_access_token\u001b[0m \u001b[0;34m=\u001b[0m \u001b[0mtoken\u001b[0m\u001b[0;34m\u001b[0m\u001b[0;34m\u001b[0m\u001b[0m\n\u001b[1;32m      4\u001b[0m \u001b[0;34m\u001b[0m\u001b[0m\n\u001b[1;32m      5\u001b[0m \u001b[0mfig\u001b[0m \u001b[0;34m=\u001b[0m \u001b[0mgo\u001b[0m\u001b[0;34m.\u001b[0m\u001b[0mFigure\u001b[0m\u001b[0;34m(\u001b[0m\u001b[0;34m)\u001b[0m\u001b[0;34m\u001b[0m\u001b[0;34m\u001b[0m\u001b[0m\n",
      "\u001b[0;32m~/.local/lib/python3.6/site-packages/plotly/__init__.py\u001b[0m in \u001b[0;36m<module>\u001b[0;34m\u001b[0m\n\u001b[1;32m     32\u001b[0m \u001b[0;34m\u001b[0m\u001b[0m\n\u001b[1;32m     33\u001b[0m \u001b[0;32mif\u001b[0m \u001b[0msys\u001b[0m\u001b[0;34m.\u001b[0m\u001b[0mversion_info\u001b[0m \u001b[0;34m<\u001b[0m \u001b[0;34m(\u001b[0m\u001b[0;36m3\u001b[0m\u001b[0;34m,\u001b[0m \u001b[0;36m7\u001b[0m\u001b[0;34m)\u001b[0m\u001b[0;34m:\u001b[0m\u001b[0;34m\u001b[0m\u001b[0;34m\u001b[0m\u001b[0m\n\u001b[0;32m---> 34\u001b[0;31m     from plotly import (\n\u001b[0m\u001b[1;32m     35\u001b[0m         \u001b[0mgraph_objs\u001b[0m\u001b[0;34m,\u001b[0m\u001b[0;34m\u001b[0m\u001b[0;34m\u001b[0m\u001b[0m\n\u001b[1;32m     36\u001b[0m         \u001b[0mtools\u001b[0m\u001b[0;34m,\u001b[0m\u001b[0;34m\u001b[0m\u001b[0;34m\u001b[0m\u001b[0m\n",
      "\u001b[0;32m~/.local/lib/python3.6/site-packages/plotly/io/__init__.py\u001b[0m in \u001b[0;36m<module>\u001b[0;34m\u001b[0m\n\u001b[1;32m      4\u001b[0m \u001b[0;32mif\u001b[0m \u001b[0msys\u001b[0m\u001b[0;34m.\u001b[0m\u001b[0mversion_info\u001b[0m \u001b[0;34m<\u001b[0m \u001b[0;34m(\u001b[0m\u001b[0;36m3\u001b[0m\u001b[0;34m,\u001b[0m \u001b[0;36m7\u001b[0m\u001b[0;34m)\u001b[0m\u001b[0;34m:\u001b[0m\u001b[0;34m\u001b[0m\u001b[0;34m\u001b[0m\u001b[0m\n\u001b[1;32m      5\u001b[0m     \u001b[0;32mfrom\u001b[0m \u001b[0;34m.\u001b[0m\u001b[0m_kaleido\u001b[0m \u001b[0;32mimport\u001b[0m \u001b[0mto_image\u001b[0m\u001b[0;34m,\u001b[0m \u001b[0mwrite_image\u001b[0m\u001b[0;34m,\u001b[0m \u001b[0mfull_figure_for_development\u001b[0m\u001b[0;34m\u001b[0m\u001b[0;34m\u001b[0m\u001b[0m\n\u001b[0;32m----> 6\u001b[0;31m     \u001b[0;32mfrom\u001b[0m \u001b[0;34m.\u001b[0m \u001b[0;32mimport\u001b[0m \u001b[0morca\u001b[0m\u001b[0;34m,\u001b[0m \u001b[0mkaleido\u001b[0m\u001b[0;34m\u001b[0m\u001b[0;34m\u001b[0m\u001b[0m\n\u001b[0m\u001b[1;32m      7\u001b[0m     \u001b[0;32mfrom\u001b[0m \u001b[0;34m.\u001b[0m\u001b[0m_json\u001b[0m \u001b[0;32mimport\u001b[0m \u001b[0mto_json\u001b[0m\u001b[0;34m,\u001b[0m \u001b[0mfrom_json\u001b[0m\u001b[0;34m,\u001b[0m \u001b[0mread_json\u001b[0m\u001b[0;34m,\u001b[0m \u001b[0mwrite_json\u001b[0m\u001b[0;34m\u001b[0m\u001b[0;34m\u001b[0m\u001b[0m\n\u001b[1;32m      8\u001b[0m     \u001b[0;32mfrom\u001b[0m \u001b[0;34m.\u001b[0m\u001b[0m_templates\u001b[0m \u001b[0;32mimport\u001b[0m \u001b[0mtemplates\u001b[0m\u001b[0;34m,\u001b[0m \u001b[0mto_templated\u001b[0m\u001b[0;34m\u001b[0m\u001b[0;34m\u001b[0m\u001b[0m\n",
      "\u001b[0;32m~/.local/lib/python3.6/site-packages/plotly/io/orca.py\u001b[0m in \u001b[0;36m<module>\u001b[0;34m\u001b[0m\n\u001b[0;32m----> 1\u001b[0;31m from ._orca import (\n\u001b[0m\u001b[1;32m      2\u001b[0m     \u001b[0mensure_server\u001b[0m\u001b[0;34m,\u001b[0m\u001b[0;34m\u001b[0m\u001b[0;34m\u001b[0m\u001b[0m\n\u001b[1;32m      3\u001b[0m     \u001b[0mshutdown_server\u001b[0m\u001b[0;34m,\u001b[0m\u001b[0;34m\u001b[0m\u001b[0;34m\u001b[0m\u001b[0m\n\u001b[1;32m      4\u001b[0m     \u001b[0mvalidate_executable\u001b[0m\u001b[0;34m,\u001b[0m\u001b[0;34m\u001b[0m\u001b[0;34m\u001b[0m\u001b[0m\n\u001b[1;32m      5\u001b[0m     \u001b[0mreset_status\u001b[0m\u001b[0;34m,\u001b[0m\u001b[0;34m\u001b[0m\u001b[0;34m\u001b[0m\u001b[0m\n",
      "\u001b[0;32m~/.local/lib/python3.6/site-packages/plotly/io/_orca.py\u001b[0m in \u001b[0;36m<module>\u001b[0;34m\u001b[0m\n\u001b[1;32m   1452\u001b[0m \u001b[0;34m\u001b[0m\u001b[0m\n\u001b[1;32m   1453\u001b[0m \u001b[0;34m\u001b[0m\u001b[0m\n\u001b[0;32m-> 1454\u001b[0;31m \u001b[0;34m@\u001b[0m\u001b[0mretrying\u001b[0m\u001b[0;34m.\u001b[0m\u001b[0mretry\u001b[0m\u001b[0;34m(\u001b[0m\u001b[0mwait_random_min\u001b[0m\u001b[0;34m=\u001b[0m\u001b[0;36m5\u001b[0m\u001b[0;34m,\u001b[0m \u001b[0mwait_random_max\u001b[0m\u001b[0;34m=\u001b[0m\u001b[0;36m10\u001b[0m\u001b[0;34m,\u001b[0m \u001b[0mstop_max_delay\u001b[0m\u001b[0;34m=\u001b[0m\u001b[0;36m60000\u001b[0m\u001b[0;34m)\u001b[0m\u001b[0;34m\u001b[0m\u001b[0;34m\u001b[0m\u001b[0m\n\u001b[0m\u001b[1;32m   1455\u001b[0m \u001b[0;32mdef\u001b[0m \u001b[0mrequest_image_with_retrying\u001b[0m\u001b[0;34m(\u001b[0m\u001b[0;34m**\u001b[0m\u001b[0mkwargs\u001b[0m\u001b[0;34m)\u001b[0m\u001b[0;34m:\u001b[0m\u001b[0;34m\u001b[0m\u001b[0;34m\u001b[0m\u001b[0m\n\u001b[1;32m   1456\u001b[0m     \"\"\"\n",
      "\u001b[0;31mAttributeError\u001b[0m: module 'retrying' has no attribute 'retry'"
     ]
    }
   ],
   "source": [
    "import plotly.graph_objects as go\n",
    "\n",
    "mapbox_access_token = token\n",
    "\n",
    "fig = go.Figure()\n",
    "\n",
    "for start, end in times:\n",
    "        selected_data = proc[(start < proc['created_at_date']) & (proc['created_at_date'] < end)]\n",
    "\n",
    "        selected_data = selected_data[['lat', 'long', 'full_text', 'id', 'created_at', 'created_at_date', 'polarity']]\n",
    "\n",
    "        selected_data['hover_text'] = selected_data['created_at'] + ': ' + selected_data['full_text'] \n",
    "        trace = go.Scattermapbox(\n",
    "            lat=selected_data['lat'],\n",
    "            lon=selected_data['long'],\n",
    "            mode='markers',\n",
    "            \n",
    "            marker=go.scattermapbox.Marker(\n",
    "                size=14, \n",
    "                color = selected_data['polarity'],\n",
    "                colorscale= 'picnic',\n",
    "                showscale=True,\n",
    "                cmax=1.0,\n",
    "                cmin=-1.0),\n",
    "            text=selected_data['hover_text'],\n",
    "            \n",
    "#             name= start.strftime(\"%Y-%m-%d %H:%M\")\n",
    "        )\n",
    "        \n",
    "        fig.add_trace(trace)        \n",
    "        \n",
    "        \n",
    "\n",
    "fig.data[0].visible = True\n",
    "\n",
    "steps = []\n",
    "for i in range(len(fig.data)):\n",
    "    step = dict(\n",
    "        method=\"update\",\n",
    "        args=[{\"visible\": [False] * len(fig.data)},\n",
    "              {\"title\": \"Tweets during time interval\" + process_time(times[i])}],  # layout attribute\n",
    "    )\n",
    "    step[\"args\"][0][\"visible\"][i] = True  # Toggle i'th trace to \"visible\"\n",
    "    steps.append(step)\n",
    "\n",
    "sliders = [dict(\n",
    "    active=0,\n",
    "    currentvalue={\"prefix\": \"Date: \"},\n",
    "    pad={\"t\": 50},\n",
    "    steps=steps\n",
    ")]\n",
    "\n",
    "\n",
    "\n",
    "fig.update_layout(\n",
    "    hovermode='closest',\n",
    "    mapbox=dict(\n",
    "        accesstoken=mapbox_access_token,\n",
    "        bearing=0,\n",
    "        center=go.layout.mapbox.Center(\n",
    "            lat=45,\n",
    "            lon=-73\n",
    "        ),\n",
    "        pitch=0,\n",
    "        zoom=5\n",
    "    ), \n",
    "    sliders=sliders\n",
    "\n",
    ")\n",
    "\n",
    "\n",
    "fig.write_html(\"./bigplot.html\")"
   ]
  },
  {
   "cell_type": "code",
   "execution_count": 39,
   "metadata": {},
   "outputs": [],
   "source": []
  },
  {
   "cell_type": "code",
   "execution_count": 205,
   "metadata": {},
   "outputs": [],
   "source": [
    "# ews@illinois.edu\n"
   ]
  },
  {
   "cell_type": "code",
   "execution_count": null,
   "metadata": {},
   "outputs": [],
   "source": []
  },
  {
   "cell_type": "code",
   "execution_count": null,
   "metadata": {},
   "outputs": [],
   "source": []
  }
 ],
 "metadata": {
  "kernelspec": {
   "name": "Python 3.8.3 64-bit ('base': conda)",
   "display_name": "Python 3.8.3 64-bit ('base': conda)",
   "metadata": {
    "interpreter": {
     "hash": "9469b7bb396b2989af3ae4dd571de61abca19d93695944bdb5dfc89d33e2df1f"
    }
   }
  }
 },
 "nbformat": 4,
 "nbformat_minor": 4
}